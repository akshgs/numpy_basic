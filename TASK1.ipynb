{
 "cells": [
  {
   "cell_type": "markdown",
   "id": "91e9e1ed-3e6c-4efd-912b-8057f2ab4d09",
   "metadata": {},
   "source": [
    "# Create 1D, 2D arrays with array() and arange().\n",
    "\n"
   ]
  },
  {
   "cell_type": "markdown",
   "id": "f841dd6e-fae2-4d23-b80f-8b7da63c7b08",
   "metadata": {},
   "source": [
    "## With array"
   ]
  },
  {
   "cell_type": "code",
   "execution_count": 1,
   "id": "cd1616e9-0350-453d-82df-e25ad4ab8f6e",
   "metadata": {},
   "outputs": [],
   "source": [
    "import numpy as np"
   ]
  },
  {
   "cell_type": "code",
   "execution_count": 2,
   "id": "14dd49e9-de82-4bf8-a4c7-8c1d4aa73f41",
   "metadata": {},
   "outputs": [
    {
     "name": "stdout",
     "output_type": "stream",
     "text": [
      "[1 2 3 4 5]\n"
     ]
    }
   ],
   "source": [
    "arr=np.array([1,2,3,4,5])\n",
    "print(arr)"
   ]
  },
  {
   "cell_type": "code",
   "execution_count": 3,
   "id": "bd53abf0-4448-4256-b8ee-0e2d4cf22405",
   "metadata": {},
   "outputs": [
    {
     "name": "stdout",
     "output_type": "stream",
     "text": [
      "<class 'numpy.ndarray'>\n",
      "[[1 2 3 4 5]\n",
      " [2 3 4 5 6]\n",
      " [4 6 8 6 4]]\n"
     ]
    },
    {
     "data": {
      "text/plain": [
       "2"
      ]
     },
     "execution_count": 3,
     "metadata": {},
     "output_type": "execute_result"
    }
   ],
   "source": [
    "arr1=np.array([\n",
    "    [1,2,3,4,5],\n",
    "    [2,3,4,5,6],\n",
    "    [4,6,8,6,4],\n",
    "])\n",
    "print(type(arr))\n",
    "print(arr1)\n",
    "arr1.shape\n",
    "arr1.ndim"
   ]
  },
  {
   "cell_type": "markdown",
   "id": "48faa687-bd34-452a-935f-e025e471206a",
   "metadata": {},
   "source": [
    "## Arange"
   ]
  },
  {
   "cell_type": "code",
   "execution_count": 4,
   "id": "a9726603-33fc-40f4-9c3f-2ffd3af8f7ef",
   "metadata": {},
   "outputs": [
    {
     "name": "stdout",
     "output_type": "stream",
     "text": [
      "[ 1  2  3  4  5  6  7  8  9 10]\n"
     ]
    }
   ],
   "source": [
    "ar=np.arange(1,11)\n",
    "print(ar)"
   ]
  },
  {
   "cell_type": "code",
   "execution_count": 5,
   "id": "829243c4-a755-4de8-b079-115ee7ba4450",
   "metadata": {},
   "outputs": [
    {
     "data": {
      "text/plain": [
       "array([[ 1,  2],\n",
       "       [ 3,  4],\n",
       "       [ 5,  6],\n",
       "       [ 7,  8],\n",
       "       [ 9, 10]])"
      ]
     },
     "execution_count": 5,
     "metadata": {},
     "output_type": "execute_result"
    }
   ],
   "source": [
    "ar1=np.arange(1,11)\n",
    "ar1.reshape(5,2)"
   ]
  },
  {
   "cell_type": "markdown",
   "id": "6fec3225-1579-42d3-889e-644244cc705a",
   "metadata": {},
   "source": [
    "# Generate arrays of zeros/ones."
   ]
  },
  {
   "cell_type": "code",
   "execution_count": 6,
   "id": "d362a3d6-a1df-4ee8-831c-137722168272",
   "metadata": {},
   "outputs": [
    {
     "name": "stdout",
     "output_type": "stream",
     "text": [
      "[[0. 0. 0. 0.]\n",
      " [0. 0. 0. 0.]\n",
      " [0. 0. 0. 0.]]\n"
     ]
    }
   ],
   "source": [
    "ar1=np.zeros((3,4))\n",
    "print(ar1)"
   ]
  },
  {
   "cell_type": "code",
   "execution_count": 7,
   "id": "680fe151-a945-479c-89e6-3eaeffff35c7",
   "metadata": {},
   "outputs": [
    {
     "name": "stdout",
     "output_type": "stream",
     "text": [
      "[[1. 1. 1.]\n",
      " [1. 1. 1.]\n",
      " [1. 1. 1.]\n",
      " [1. 1. 1.]]\n"
     ]
    }
   ],
   "source": [
    "ar=np.ones((4,3))\n",
    "print(ar)"
   ]
  },
  {
   "cell_type": "markdown",
   "id": "06e5016a-6ae8-481a-9283-dfb1c328181b",
   "metadata": {},
   "source": [
    "# Check array shape, size, and dtype."
   ]
  },
  {
   "cell_type": "code",
   "execution_count": 8,
   "id": "d7a0ba28-987f-4cde-9b7d-16d527e57831",
   "metadata": {},
   "outputs": [
    {
     "name": "stdout",
     "output_type": "stream",
     "text": [
      "(3, 3)\n",
      "9\n",
      "int64\n"
     ]
    }
   ],
   "source": [
    "arr=np.array([\n",
    "    [1,2,3],\n",
    "    [4,5,6],\n",
    "    [7,8,9]\n",
    "])\n",
    "print(arr.shape)\n",
    "print(arr.size)\n",
    "print(arr.dtype)"
   ]
  },
  {
   "cell_type": "markdown",
   "id": "0104883a-bc9b-4687-8c7e-842d645143cc",
   "metadata": {},
   "source": [
    "# Create a NumPy array of numbers 1–10."
   ]
  },
  {
   "cell_type": "code",
   "execution_count": 9,
   "id": "4443c5dd-21ef-43f5-b5a9-814a0c2445d6",
   "metadata": {},
   "outputs": [
    {
     "name": "stdout",
     "output_type": "stream",
     "text": [
      "[1 2 3 4 5 6 7 8 9]\n"
     ]
    }
   ],
   "source": [
    "ary=np.arange(1,10)\n",
    "print(ary)"
   ]
  },
  {
   "cell_type": "markdown",
   "id": "c75b8e99-c9a6-40d8-b91e-1a0b2443678e",
   "metadata": {},
   "source": [
    "# Generate an array of even numbers between 20 and 40."
   ]
  },
  {
   "cell_type": "code",
   "execution_count": 10,
   "id": "c86c3a05-4788-446d-b8a1-419c9d00f185",
   "metadata": {},
   "outputs": [
    {
     "name": "stdout",
     "output_type": "stream",
     "text": [
      "[20 22 24 26 28 30 32 34 36 38 40]\n"
     ]
    }
   ],
   "source": [
    "ar=np.arange(20,41,2)\n",
    "print(ar)"
   ]
  },
  {
   "cell_type": "markdown",
   "id": "883d7677-c007-4be1-b8cd-150cb508caec",
   "metadata": {},
   "source": [
    "# Create an array of 20 random integers (1–50) and extract only the odd numbers."
   ]
  },
  {
   "cell_type": "code",
   "execution_count": 11,
   "id": "00324037-150a-4d71-9d1b-f44b880ae708",
   "metadata": {},
   "outputs": [
    {
     "name": "stdout",
     "output_type": "stream",
     "text": [
      "[ 5 35 49 23  1 11  1  1 47 41 11  5 29  3 31]\n"
     ]
    }
   ],
   "source": [
    "ar=np.random.randint(1,50,20)\n",
    "odd=ar[ar%2!=0]\n",
    "print(odd)\n"
   ]
  },
  {
   "cell_type": "markdown",
   "id": "85ccdd33-6e00-49c8-be9a-b340b6560ca6",
   "metadata": {},
   "source": [
    "# Compare memory usage of a Python list vs a NumPy array with 1000 element"
   ]
  },
  {
   "cell_type": "code",
   "execution_count": 12,
   "id": "3251dba4-7f24-42a1-9e5b-b9020fce8946",
   "metadata": {},
   "outputs": [
    {
     "name": "stdout",
     "output_type": "stream",
     "text": [
      "List size: 36056\n",
      "NumPy array size: 4000\n"
     ]
    }
   ],
   "source": [
    "import sys\n",
    "\n",
    "\n",
    "py_list = list(range(1000))\n",
    "print(\"List size:\", sys.getsizeof(py_list) + sum(sys.getsizeof(i) for i in py_list))\n",
    "\n",
    "\n",
    "np_array = np.arange(1000, dtype=np.int32)\n",
    "print(\"NumPy array size:\", np_array.nbytes)\n"
   ]
  },
  {
   "cell_type": "markdown",
   "id": "3a9e9026-415f-4eee-9936-4e11824e0913",
   "metadata": {},
   "source": [
    "# Reshape a NumPy array of numbers 1–36 into a 6×6 matrix"
   ]
  },
  {
   "cell_type": "code",
   "execution_count": 13,
   "id": "cd5b5f52-22da-433f-9c6b-a650bc301922",
   "metadata": {},
   "outputs": [
    {
     "name": "stdout",
     "output_type": "stream",
     "text": [
      "[[ 1  2  3  4  5  6]\n",
      " [ 7  8  9 10 11 12]\n",
      " [13 14 15 16 17 18]\n",
      " [19 20 21 22 23 24]\n",
      " [25 26 27 28 29 30]\n",
      " [31 32 33 34 35 36]]\n"
     ]
    }
   ],
   "source": [
    "a=np.arange(1,37)\n",
    "a.size\n",
    "arr=a.reshape(6,6)\n",
    "print(arr)"
   ]
  },
  {
   "cell_type": "markdown",
   "id": "be83eae6-6bc0-401a-9619-0d50a052aa99",
   "metadata": {},
   "source": [
    "# Create a 10×10 array and set the border elements to 1, inner elements to 0."
   ]
  },
  {
   "cell_type": "code",
   "execution_count": 24,
   "id": "946416b1-42be-464b-8808-c74db755b427",
   "metadata": {},
   "outputs": [
    {
     "name": "stdout",
     "output_type": "stream",
     "text": [
      "[[1. 1. 1. 1. 1. 1. 1. 1. 1. 1.]\n",
      " [1. 0. 0. 0. 0. 0. 0. 0. 0. 1.]\n",
      " [1. 0. 0. 0. 0. 0. 0. 0. 0. 1.]\n",
      " [1. 0. 0. 0. 0. 0. 0. 0. 0. 1.]\n",
      " [1. 0. 0. 0. 0. 0. 0. 0. 0. 1.]\n",
      " [1. 0. 0. 0. 0. 0. 0. 0. 0. 1.]\n",
      " [1. 0. 0. 0. 0. 0. 0. 0. 0. 1.]\n",
      " [1. 0. 0. 0. 0. 0. 0. 0. 0. 1.]\n",
      " [1. 0. 0. 0. 0. 0. 0. 0. 0. 1.]\n",
      " [1. 1. 1. 1. 1. 1. 1. 1. 1. 1.]]\n"
     ]
    }
   ],
   "source": [
    "arr=np.zeros((10,10))\n",
    "arr[0,:]=1\n",
    "arr[9,:]=1\n",
    "arr[:,0]=1\n",
    "arr[:,9]=1\n",
    "print(arr)\n"
   ]
  },
  {
   "cell_type": "code",
   "execution_count": null,
   "id": "26fdf31b-dec0-476c-8cfd-b2f96a4de11b",
   "metadata": {},
   "outputs": [],
   "source": []
  },
  {
   "cell_type": "code",
   "execution_count": null,
   "id": "69c93ec8-46d1-4e2d-aa28-fc4624cfa88a",
   "metadata": {},
   "outputs": [],
   "source": []
  }
 ],
 "metadata": {
  "kernelspec": {
   "display_name": "Python (DataScience)",
   "language": "python",
   "name": "ds_env"
  },
  "language_info": {
   "codemirror_mode": {
    "name": "ipython",
    "version": 3
   },
   "file_extension": ".py",
   "mimetype": "text/x-python",
   "name": "python",
   "nbconvert_exporter": "python",
   "pygments_lexer": "ipython3",
   "version": "3.12.11"
  }
 },
 "nbformat": 4,
 "nbformat_minor": 5
}
