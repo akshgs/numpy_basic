{
 "cells": [
  {
   "cell_type": "markdown",
   "id": "8959d041-3b62-451f-b1ea-a8f5dfdb8fdc",
   "metadata": {},
   "source": [
    "# Convert a 1D array into 2D (3×4)."
   ]
  },
  {
   "cell_type": "code",
   "execution_count": 2,
   "id": "29041316-aa21-47c3-9362-f8df8b4c5a03",
   "metadata": {},
   "outputs": [],
   "source": [
    "import numpy as np"
   ]
  },
  {
   "cell_type": "code",
   "execution_count": 3,
   "id": "a2371863-e5ca-44af-816d-57b7ac45802a",
   "metadata": {},
   "outputs": [
    {
     "name": "stdout",
     "output_type": "stream",
     "text": [
      "[[ 0  1  2  3]\n",
      " [ 4  5  6  7]\n",
      " [ 8  9 10 11]]\n"
     ]
    }
   ],
   "source": [
    "arr=np.arange(12).reshape(3,4)\n",
    "print(arr)"
   ]
  },
  {
   "cell_type": "markdown",
   "id": "14b4e084-c87f-44cb-b1d0-2102b8c6a991",
   "metadata": {},
   "source": [
    "# Flatten a matrix into 1D."
   ]
  },
  {
   "cell_type": "code",
   "execution_count": 12,
   "id": "18f1c954-5c37-416d-a1c9-37038471097c",
   "metadata": {},
   "outputs": [
    {
     "name": "stdout",
     "output_type": "stream",
     "text": [
      "[[[ 0  1  2]\n",
      "  [ 3  4  5]\n",
      "  [ 6  7  8]]\n",
      "\n",
      " [[ 9 10 11]\n",
      "  [12 13 14]\n",
      "  [15 16 17]]\n",
      "\n",
      " [[18 19 20]\n",
      "  [21 22 23]\n",
      "  [24 25 26]]]\n"
     ]
    },
    {
     "data": {
      "text/plain": [
       "array([ 0,  1,  2,  3,  4,  5,  6,  7,  8,  9, 10, 11, 12, 13, 14, 15, 16,\n",
       "       17, 18, 19, 20, 21, 22, 23, 24, 25, 26])"
      ]
     },
     "execution_count": 12,
     "metadata": {},
     "output_type": "execute_result"
    }
   ],
   "source": [
    "arr1=np.arange(27).reshape(3,3,3)\n",
    "print(arr1)\n",
    "arr1.flatten()"
   ]
  },
  {
   "cell_type": "markdown",
   "id": "deb92934-ff6e-4e69-9610-2c1502837e2e",
   "metadata": {},
   "source": [
    "# Transpose a 2D array."
   ]
  },
  {
   "cell_type": "code",
   "execution_count": 14,
   "id": "f68f3676-0549-471a-ad1b-9ecc58e1a9f6",
   "metadata": {},
   "outputs": [
    {
     "name": "stdout",
     "output_type": "stream",
     "text": [
      "[[ 0  6 12 18 24]\n",
      " [ 1  7 13 19 25]\n",
      " [ 2  8 14 20 26]\n",
      " [ 3  9 15 21 27]\n",
      " [ 4 10 16 22 28]\n",
      " [ 5 11 17 23 29]]\n"
     ]
    }
   ],
   "source": [
    "arr2=np.arange(30).reshape(5,6)\n",
    "ar=np.transpose(arr2)\n",
    "print(ar)"
   ]
  },
  {
   "cell_type": "code",
   "execution_count": 16,
   "id": "96d14a8f-d77b-4680-8ff6-8229c9a144d6",
   "metadata": {},
   "outputs": [
    {
     "data": {
      "text/plain": [
       "array([[ 0,  6, 12, 18, 24],\n",
       "       [ 1,  7, 13, 19, 25],\n",
       "       [ 2,  8, 14, 20, 26],\n",
       "       [ 3,  9, 15, 21, 27],\n",
       "       [ 4, 10, 16, 22, 28],\n",
       "       [ 5, 11, 17, 23, 29]])"
      ]
     },
     "execution_count": 16,
     "metadata": {},
     "output_type": "execute_result"
    }
   ],
   "source": [
    "arr2.T"
   ]
  },
  {
   "cell_type": "markdown",
   "id": "0ca6db0f-e5d9-4fa6-9d0c-547a73613b9c",
   "metadata": {},
   "source": [
    "# Create an array of numbers 1–12 and reshape it into a 3×4 matrix."
   ]
  },
  {
   "cell_type": "code",
   "execution_count": 19,
   "id": "bed6f8fc-1cec-4718-9d05-2746ccc2a635",
   "metadata": {},
   "outputs": [
    {
     "name": "stdout",
     "output_type": "stream",
     "text": [
      "[[ 1  2  3  4]\n",
      " [ 5  6  7  8]\n",
      " [ 9 10 11 12]]\n"
     ]
    }
   ],
   "source": [
    "aray=np.arange(1,13).reshape(3,4)\n",
    "print(aray)"
   ]
  },
  {
   "cell_type": "markdown",
   "id": "b9e52890-2e15-48cd-8fc5-c7b7904fbbc1",
   "metadata": {},
   "source": [
    "# Transpose a 2×3 matrix into a 3×2 matrix."
   ]
  },
  {
   "cell_type": "code",
   "execution_count": 25,
   "id": "6e7bd4e9-87ad-4e15-b45c-452c741f5cc1",
   "metadata": {},
   "outputs": [
    {
     "name": "stdout",
     "output_type": "stream",
     "text": [
      "[[0 0 0]\n",
      " [0 0 0]]\n",
      "[[0 0]\n",
      " [0 0]\n",
      " [0 0]]\n"
     ]
    }
   ],
   "source": [
    "a=np.zeros((2,3),dtype=int)\n",
    "print(a)\n",
    "b=np.transpose(a)\n",
    "print(b)"
   ]
  },
  {
   "cell_type": "markdown",
   "id": "5b4e793b-1017-4474-9ca0-4ed09d3a69c2",
   "metadata": {},
   "source": [
    "# Reshape numbers 0–29 into a 6×5 matrix and extract the 3rd column."
   ]
  },
  {
   "cell_type": "code",
   "execution_count": 34,
   "id": "9c641936-7026-44e2-8f42-ec8f4e5e07e2",
   "metadata": {},
   "outputs": [
    {
     "name": "stdout",
     "output_type": "stream",
     "text": [
      "[[ 0  1  2  3  4]\n",
      " [ 5  6  7  8  9]\n",
      " [10 11 12 13 14]\n",
      " [15 16 17 18 19]\n",
      " [20 21 22 23 24]\n",
      " [25 26 27 28 29]]\n",
      "[[ 2]\n",
      " [ 7]\n",
      " [12]\n",
      " [17]\n",
      " [22]\n",
      " [27]]\n"
     ]
    }
   ],
   "source": [
    "ar=np.arange(30).reshape(6,5)\n",
    "print(ar)\n",
    "print(ar[:,2:3])"
   ]
  },
  {
   "cell_type": "markdown",
   "id": "013e4294-9afd-489b-8ea4-aca262bca9dc",
   "metadata": {},
   "source": [
    "# Flatten a 3×3 matrix and sort elements in descending order."
   ]
  },
  {
   "cell_type": "code",
   "execution_count": 43,
   "id": "b9cd87fc-c625-4c9c-8765-28150e4420c6",
   "metadata": {},
   "outputs": [
    {
     "name": "stdout",
     "output_type": "stream",
     "text": [
      "[[5 3 8]\n",
      " [3 1 2]\n",
      " [8 9 9]]\n",
      "[5 3 8 3 1 2 8 9 9]\n",
      "[9 9 8 2 1 3 8 3 5]\n"
     ]
    }
   ],
   "source": [
    "a=np.random.randint(1,10,(3,3))\n",
    "print(a)\n",
    "b=a.flatten()\n",
    "print(b)\n",
    "print(b[::-1])"
   ]
  },
  {
   "cell_type": "markdown",
   "id": "93066a58-fed2-4650-a870-fbb9711ff434",
   "metadata": {},
   "source": [
    "# Create an 8×8 checkerboard pattern using only zeros() and slicing."
   ]
  },
  {
   "cell_type": "code",
   "execution_count": 98,
   "id": "fc38040b-522f-40a8-a050-16bc6e44006d",
   "metadata": {},
   "outputs": [
    {
     "name": "stdout",
     "output_type": "stream",
     "text": [
      "[[0 0 0 0 0 0 0 0]\n",
      " [0 0 0 0 0 0 0 0]\n",
      " [0 0 0 0 0 0 0 0]\n",
      " [0 0 0 0 0 0 0 0]\n",
      " [0 0 0 0 0 0 0 0]\n",
      " [0 0 0 0 0 0 0 0]\n",
      " [0 0 0 0 0 0 0 0]\n",
      " [0 0 0 0 0 0 0 0]]\n",
      "\n",
      "[[1 0 1 0 1 0 1 0]\n",
      " [0 1 0 1 0 1 0 1]\n",
      " [1 0 1 0 1 0 1 0]\n",
      " [0 1 0 1 0 1 0 1]\n",
      " [1 0 1 0 1 0 1 0]\n",
      " [0 1 0 1 0 1 0 1]\n",
      " [1 0 1 0 1 0 1 0]\n",
      " [0 1 0 1 0 1 0 1]]\n"
     ]
    }
   ],
   "source": [
    "a=np.zeros((8,8),dtype=int)\n",
    "print(a)\n",
    "print()\n",
    "a[0::2,::2]=1\n",
    "a[1::2,1::2]=1\n",
    "print(a)"
   ]
  },
  {
   "cell_type": "code",
   "execution_count": null,
   "id": "defa98fb-03cd-4f06-9637-6aabec4a4bb2",
   "metadata": {},
   "outputs": [],
   "source": []
  }
 ],
 "metadata": {
  "kernelspec": {
   "display_name": "Python (DataScience)",
   "language": "python",
   "name": "ds_env"
  },
  "language_info": {
   "codemirror_mode": {
    "name": "ipython",
    "version": 3
   },
   "file_extension": ".py",
   "mimetype": "text/x-python",
   "name": "python",
   "nbconvert_exporter": "python",
   "pygments_lexer": "ipython3",
   "version": "3.12.11"
  }
 },
 "nbformat": 4,
 "nbformat_minor": 5
}
