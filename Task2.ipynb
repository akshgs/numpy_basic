{
 "cells": [
  {
   "cell_type": "markdown",
   "id": "8e908fb5-2812-49ca-9026-0eb2a2f39fbb",
   "metadata": {},
   "source": [
    "# Slice a 2D array into sub-arrays."
   ]
  },
  {
   "cell_type": "code",
   "execution_count": 2,
   "id": "e9c54638-4731-427d-8f8d-db8e87e6e5d6",
   "metadata": {},
   "outputs": [],
   "source": [
    "import numpy as np"
   ]
  },
  {
   "cell_type": "code",
   "execution_count": 3,
   "id": "f9f5c1e1-f942-42fb-b9b9-72c494dc56f6",
   "metadata": {},
   "outputs": [
    {
     "name": "stdout",
     "output_type": "stream",
     "text": [
      "[[ 1  2  3  4]\n",
      " [ 5  6  7  8]\n",
      " [ 9 10 11 12]\n",
      " [13 14 15 16]\n",
      " [17 18 19 20]]\n"
     ]
    }
   ],
   "source": [
    "arr=np.arange(1,21)\n",
    "arr1=arr.reshape(5,4)\n",
    "print(arr1)"
   ]
  },
  {
   "cell_type": "code",
   "execution_count": 4,
   "id": "a21269cf-06d4-4b71-9be1-129c9f44bf43",
   "metadata": {},
   "outputs": [
    {
     "name": "stdout",
     "output_type": "stream",
     "text": [
      "[[ 6  7  8]\n",
      " [10 11 12]]\n"
     ]
    }
   ],
   "source": [
    "sub=arr1[1:3,1:4]\n",
    "print(sub)"
   ]
  },
  {
   "cell_type": "markdown",
   "id": "708be1a6-a9f6-4d1b-9d49-64928a46c4a1",
   "metadata": {},
   "source": [
    "# Find row-wise max, column-wise min."
   ]
  },
  {
   "cell_type": "code",
   "execution_count": 5,
   "id": "064e3658-d817-44ee-b9af-33f99289e774",
   "metadata": {},
   "outputs": [
    {
     "name": "stdout",
     "output_type": "stream",
     "text": [
      "[[  1.           6.26315789  11.52631579  16.78947368  22.05263158]\n",
      " [ 27.31578947  32.57894737  37.84210526  43.10526316  48.36842105]\n",
      " [ 53.63157895  58.89473684  64.15789474  69.42105263  74.68421053]\n",
      " [ 79.94736842  85.21052632  90.47368421  95.73684211 101.        ]]\n"
     ]
    }
   ],
   "source": [
    "a=np.linspace(1,101,20)\n",
    "b=a.reshape(4,5)\n",
    "print(b)"
   ]
  },
  {
   "cell_type": "code",
   "execution_count": 6,
   "id": "e75e874d-71f0-4fb9-b461-6fc304f14f65",
   "metadata": {},
   "outputs": [
    {
     "name": "stdout",
     "output_type": "stream",
     "text": [
      "[ 79.94736842  85.21052632  90.47368421  95.73684211 101.        ]\n",
      "[ 22.05263158  48.36842105  74.68421053 101.        ]\n"
     ]
    }
   ],
   "source": [
    "min_r=np.max(b,axis=0)\n",
    "print(min_r)\n",
    "max_c=np.max(b,axis=1)\n",
    "print(max_c)"
   ]
  },
  {
   "cell_type": "markdown",
   "id": "de2126cb-2cc0-4401-b290-450fabd01071",
   "metadata": {},
   "source": [
    "# Perform broadcasting "
   ]
  },
  {
   "cell_type": "code",
   "execution_count": 7,
   "id": "bb8f27ac-2d44-40b0-903b-1dc968b7e81f",
   "metadata": {},
   "outputs": [
    {
     "name": "stdout",
     "output_type": "stream",
     "text": [
      "[[1 2 3]\n",
      " [4 5 6]]\n",
      "[[1 2]]\n"
     ]
    },
    {
     "ename": "ValueError",
     "evalue": "operands could not be broadcast together with shapes (2,3) (1,2) ",
     "output_type": "error",
     "traceback": [
      "\u001b[31m---------------------------------------------------------------------------\u001b[39m",
      "\u001b[31mValueError\u001b[39m                                Traceback (most recent call last)",
      "\u001b[36mCell\u001b[39m\u001b[36m \u001b[39m\u001b[32mIn[7]\u001b[39m\u001b[32m, line 6\u001b[39m\n\u001b[32m      4\u001b[39m c=np.array([[\u001b[32m1\u001b[39m,\u001b[32m2\u001b[39m]])\n\u001b[32m      5\u001b[39m \u001b[38;5;28mprint\u001b[39m(c)\n\u001b[32m----> \u001b[39m\u001b[32m6\u001b[39m \u001b[38;5;28mprint\u001b[39m(\u001b[43mb\u001b[49m\u001b[43m+\u001b[49m\u001b[43mc\u001b[49m)\n",
      "\u001b[31mValueError\u001b[39m: operands could not be broadcast together with shapes (2,3) (1,2) "
     ]
    }
   ],
   "source": [
    "a=np.arange(1,7)\n",
    "b=a.reshape(2,3)\n",
    "print(b)\n",
    "c=np.array([[1,2]])\n",
    "print(c)\n",
    "print(b+c)"
   ]
  },
  {
   "cell_type": "markdown",
   "id": "c7ac41b5-327d-4c3a-a977-b4b5f39ac2ff",
   "metadata": {},
   "source": [
    "observation: there is no brodcasting whith 1D array and 2D array"
   ]
  },
  {
   "cell_type": "code",
   "execution_count": 34,
   "id": "10a89b1d-1133-4409-b987-434ee25c3dd3",
   "metadata": {},
   "outputs": [
    {
     "name": "stdout",
     "output_type": "stream",
     "text": [
      "[[30 31 32 33]\n",
      " [34 35 36 37]]\n"
     ]
    }
   ],
   "source": [
    "a=np.arange(25,33)\n",
    "b=a.reshape(2,4)\n",
    "print(b+5)"
   ]
  },
  {
   "cell_type": "code",
   "execution_count": 40,
   "id": "f14961c6-db94-428d-a49a-b6008ea6a425",
   "metadata": {},
   "outputs": [
    {
     "name": "stdout",
     "output_type": "stream",
     "text": [
      "[[ 3  7 13]\n",
      " [ 6 10 16]\n",
      " [ 9 13 19]]\n"
     ]
    }
   ],
   "source": [
    "a=np.arange(1,10)\n",
    "b=a.reshape(3,3)\n",
    "c=np.array([2,5,10])\n",
    "\n",
    "print(b+c)"
   ]
  },
  {
   "cell_type": "code",
   "execution_count": null,
   "id": "715efb37-23b2-4c2c-a583-13f46416d45c",
   "metadata": {},
   "outputs": [],
   "source": [
    "student=np.array([\n",
    "    [20,30,40,50],\n",
    "    [30,30,30,30],\n",
    "    [50,20,30,40],\n",
    "    [20,50,50,30],\n",
    "    [40,40,30,20]\n",
    "])\n",
    "s=np.sum(student,axis=1)\n",
    "s"
   ]
  },
  {
   "cell_type": "markdown",
   "id": "8cad4199-01df-4ac8-96ad-d9b6a39a545b",
   "metadata": {},
   "source": [
    "# Slice the first 5 elements from an array of numbers 1–20."
   ]
  },
  {
   "cell_type": "code",
   "execution_count": 46,
   "id": "215ea257-3e26-44c0-ba96-5c02b5b944ba",
   "metadata": {},
   "outputs": [
    {
     "data": {
      "text/plain": [
       "array([1, 2, 3, 4, 5])"
      ]
     },
     "execution_count": 46,
     "metadata": {},
     "output_type": "execute_result"
    }
   ],
   "source": [
    "a=np.arange(1,21)\n",
    "a[0:5]"
   ]
  },
  {
   "cell_type": "markdown",
   "id": "95976aed-1621-44ea-a2e1-a4f192d44be3",
   "metadata": {},
   "source": [
    "# Extract the diagonal elements of a 4×4 matrix.\n"
   ]
  },
  {
   "cell_type": "code",
   "execution_count": 52,
   "id": "1c0ba323-1974-4a04-95c2-5c37f32fe69b",
   "metadata": {},
   "outputs": [
    {
     "name": "stdout",
     "output_type": "stream",
     "text": [
      "[[ 1  2  3  4]\n",
      " [ 5  6  7  8]\n",
      " [ 9 10 11 12]\n",
      " [13 14 15 16]]\n",
      "[ 1  6 11 16]\n"
     ]
    }
   ],
   "source": [
    "arr=np.arange(1,17)\n",
    "arr1=arr.reshape(4,4)\n",
    "print(arr1)\n",
    "diag=np.diag(arr1)\n",
    "print(diag)"
   ]
  },
  {
   "cell_type": "code",
   "execution_count": 54,
   "id": "ae62c9ce-b0dc-4177-a586-06aa8779970a",
   "metadata": {},
   "outputs": [
    {
     "name": "stdout",
     "output_type": "stream",
     "text": [
      "[[ 1  2  3  4]\n",
      " [ 5  6  7  8]\n",
      " [ 9 10 11 12]\n",
      " [13 14 15 16]]\n",
      "[ 2  7 12]\n"
     ]
    }
   ],
   "source": [
    "arr=np.arange(1,17)\n",
    "arr1=arr.reshape(4,4)\n",
    "print(arr1)\n",
    "diag=np.diag(arr1,k=1)\n",
    "print(diag)"
   ]
  },
  {
   "cell_type": "code",
   "execution_count": 55,
   "id": "2fb69430-f2ad-43c6-9eae-4685226657f6",
   "metadata": {},
   "outputs": [
    {
     "name": "stdout",
     "output_type": "stream",
     "text": [
      "[[ 1  2  3  4]\n",
      " [ 5  6  7  8]\n",
      " [ 9 10 11 12]\n",
      " [13 14 15 16]]\n",
      "[ 5 10 15]\n"
     ]
    }
   ],
   "source": [
    "arr=np.arange(1,17)\n",
    "arr1=arr.reshape(4,4)\n",
    "print(arr1)\n",
    "diag=np.diag(arr1,k=-1)\n",
    "print(diag)"
   ]
  },
  {
   "cell_type": "code",
   "execution_count": 56,
   "id": "91fe9c90-e015-4f98-8a7e-451a564e2d8c",
   "metadata": {},
   "outputs": [
    {
     "data": {
      "text/plain": [
       "array([[ 1,  0,  0,  0],\n",
       "       [ 0,  6,  0,  0],\n",
       "       [ 0,  0, 11,  0],\n",
       "       [ 0,  0,  0, 16]])"
      ]
     },
     "execution_count": 56,
     "metadata": {},
     "output_type": "execute_result"
    }
   ],
   "source": [
    "np.diag(np.diag(arr1))\n"
   ]
  },
  {
   "cell_type": "code",
   "execution_count": 58,
   "id": "819233c9-74f9-431f-b52e-2093d47e3cb2",
   "metadata": {},
   "outputs": [
    {
     "data": {
      "text/plain": [
       "array([3, 8])"
      ]
     },
     "execution_count": 58,
     "metadata": {},
     "output_type": "execute_result"
    }
   ],
   "source": [
    "arr1.diagonal(2)"
   ]
  },
  {
   "cell_type": "markdown",
   "id": "226584c5-eb54-4770-b416-c4c382d19209",
   "metadata": {},
   "source": [
    "# Replace all negative values in an array with 0."
   ]
  },
  {
   "cell_type": "code",
   "execution_count": 63,
   "id": "c6ad21c8-4ba4-41f5-97ed-a0b12bc6bfb3",
   "metadata": {},
   "outputs": [
    {
     "name": "stdout",
     "output_type": "stream",
     "text": [
      "[-5 -4 -3 -2 -1  0  1  2  3  4]\n",
      "[[-5 -4 -3 -2 -1]\n",
      " [ 0  1  2  3  4]]\n"
     ]
    }
   ],
   "source": [
    "a=np.arange(-5,5)\n",
    "print(a)\n",
    "a.size\n",
    "b=a.reshape(2,5)\n",
    "print(b)"
   ]
  },
  {
   "cell_type": "code",
   "execution_count": 65,
   "id": "043c6e88-ab4f-4462-a589-6007bc2f6101",
   "metadata": {},
   "outputs": [
    {
     "name": "stdout",
     "output_type": "stream",
     "text": [
      "[[0 0 0 0 0]\n",
      " [0 1 2 3 4]]\n"
     ]
    }
   ],
   "source": [
    "b[b<0]=0\n",
    "print(b)"
   ]
  },
  {
   "cell_type": "markdown",
   "id": "2b2126e0-58c8-4cfa-8d1b-f9fd00adf563",
   "metadata": {},
   "source": [
    "# Create a 5×5 random integer array (1–50) and replace all values greater than 25 with 99."
   ]
  },
  {
   "cell_type": "code",
   "execution_count": 68,
   "id": "bae80e7e-022b-473a-8bee-2edb597d74e0",
   "metadata": {},
   "outputs": [
    {
     "name": "stdout",
     "output_type": "stream",
     "text": [
      "[[39 15 17 19  8]\n",
      " [38 16 41 35 50]\n",
      " [ 5 43 11 48  9]\n",
      " [12 36 49 26 31]\n",
      " [42 26 27 12 41]]\n"
     ]
    }
   ],
   "source": [
    "ar=np.random.randint(1,51,(5,5))\n",
    "print(ar)"
   ]
  },
  {
   "cell_type": "code",
   "execution_count": 69,
   "id": "b68618e3-06f3-49c8-b8ba-e1c8980ce391",
   "metadata": {},
   "outputs": [
    {
     "name": "stdout",
     "output_type": "stream",
     "text": [
      "[[99 15 17 19  8]\n",
      " [99 16 99 99 99]\n",
      " [ 5 99 11 99  9]\n",
      " [12 99 99 99 99]\n",
      " [99 99 99 12 99]]\n"
     ]
    }
   ],
   "source": [
    "ar[ar>25]=99\n",
    "print(ar)"
   ]
  },
  {
   "cell_type": "code",
   "execution_count": null,
   "id": "fbb5b202-ab31-406c-a2a4-ea1dfb0fbed5",
   "metadata": {},
   "outputs": [],
   "source": []
  }
 ],
 "metadata": {
  "kernelspec": {
   "display_name": "Python (DataScience)",
   "language": "python",
   "name": "ds_env"
  },
  "language_info": {
   "codemirror_mode": {
    "name": "ipython",
    "version": 3
   },
   "file_extension": ".py",
   "mimetype": "text/x-python",
   "name": "python",
   "nbconvert_exporter": "python",
   "pygments_lexer": "ipython3",
   "version": "3.12.11"
  }
 },
 "nbformat": 4,
 "nbformat_minor": 5
}
