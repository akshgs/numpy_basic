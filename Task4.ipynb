{
 "cells": [
  {
   "cell_type": "markdown",
   "id": "de33b05a-bed1-48ca-bbf3-de5790656852",
   "metadata": {},
   "source": [
    "# Stack two arrays vertically and horizontally."
   ]
  },
  {
   "cell_type": "code",
   "execution_count": 1,
   "id": "6a91336d-b5f2-44ef-9aab-5f026ba4b94c",
   "metadata": {},
   "outputs": [],
   "source": [
    "import numpy as np"
   ]
  },
  {
   "cell_type": "code",
   "execution_count": 2,
   "id": "f770d2d8-16eb-459a-9035-48026c06ccb7",
   "metadata": {},
   "outputs": [
    {
     "name": "stdout",
     "output_type": "stream",
     "text": [
      "[[ 0  1  2]\n",
      " [ 3  4  5]\n",
      " [ 6  7  8]\n",
      " [ 9 10 11]\n",
      " [12 13 14]\n",
      " [15 16 17]\n",
      " [18 19 20]\n",
      " [21 22 23]]\n",
      "[[ 0  1  2 12 13 14]\n",
      " [ 3  4  5 15 16 17]\n",
      " [ 6  7  8 18 19 20]\n",
      " [ 9 10 11 21 22 23]]\n"
     ]
    }
   ],
   "source": [
    "a=np.arange(12).reshape(4,3)\n",
    "b=np.arange(12,24).reshape(4,3)\n",
    "c=np.hstack((a,b))\n",
    "d=np.vstack((a,b))\n",
    "print(d)\n",
    "print(c)"
   ]
  },
  {
   "cell_type": "markdown",
   "id": "d77c0f08-408f-46b9-9673-dd48383be7ce",
   "metadata": {},
   "source": [
    "# Split a 1D array into equal parts."
   ]
  },
  {
   "cell_type": "code",
   "execution_count": 3,
   "id": "14af5dbf-1ee9-4fe7-bb90-f55c0b0ebd1b",
   "metadata": {},
   "outputs": [
    {
     "data": {
      "text/plain": [
       "[array([0, 1, 2, 3, 4]),\n",
       " array([5, 6, 7, 8, 9]),\n",
       " array([10, 11, 12, 13, 14]),\n",
       " array([15, 16, 17, 18, 19])]"
      ]
     },
     "execution_count": 3,
     "metadata": {},
     "output_type": "execute_result"
    }
   ],
   "source": [
    "a=np.arange(20)\n",
    "np.split(a,4)"
   ]
  },
  {
   "cell_type": "markdown",
   "id": "63c156dd-9187-4f95-a83f-890899b16fec",
   "metadata": {},
   "source": [
    "# Demonstrate shallow vs deep copy."
   ]
  },
  {
   "cell_type": "code",
   "execution_count": 11,
   "id": "92d8d1a4-993b-45a8-8d06-f4e46efd15d0",
   "metadata": {},
   "outputs": [
    {
     "name": "stdout",
     "output_type": "stream",
     "text": [
      "Original a: [1 2 3 4 5]\n",
      "\n",
      "After modifying b (shallow copy):\n",
      "a: [25  2  3  4  5]\n",
      "b: [25  2  3  4  5]\n",
      "\n",
      "After modifying c (deep copy):\n",
      "a: [25  2  3  4  5]\n",
      "c: [ 25 200   3   4   5]\n"
     ]
    }
   ],
   "source": [
    "a = np.array([1, 2, 3, 4, 5])\n",
    "print(\"Original a:\", a)\n",
    "\n",
    "b=a.view()\n",
    "b[0]=25\n",
    "print(\"\\nAfter modifying b (shallow copy):\")\n",
    "print(\"a:\", a)\n",
    "print(\"b:\", b)\n",
    "\n",
    "c=a.copy()\n",
    "c[1]=200\n",
    "print(\"\\nAfter modifying c (deep copy):\")\n",
    "print(\"a:\", a)\n",
    "print(\"c:\", c)"
   ]
  },
  {
   "cell_type": "markdown",
   "id": "4914d007-4716-4432-9857-fea82b99f9ad",
   "metadata": {},
   "source": [
    "# Concatenate two arrays [1,2,3] and [4,5,6]."
   ]
  },
  {
   "cell_type": "code",
   "execution_count": 15,
   "id": "3596c191-bbde-4dce-bbc9-289d90878e75",
   "metadata": {},
   "outputs": [
    {
     "name": "stdout",
     "output_type": "stream",
     "text": [
      "[1 2 3 4 5 6]\n"
     ]
    }
   ],
   "source": [
    "a=np.arange(1,4)\n",
    "b=np.arange(4,7)\n",
    "arr=np.concatenate((a,b))\n",
    "print(arr)"
   ]
  },
  {
   "cell_type": "markdown",
   "id": "8163ac50-80b0-4d15-9fed-5805fe1e4e49",
   "metadata": {},
   "source": [
    "# Stack two 3×3 identity matrices vertically"
   ]
  },
  {
   "cell_type": "code",
   "execution_count": 22,
   "id": "7f27561d-a9e2-49af-b461-160f7f347128",
   "metadata": {},
   "outputs": [
    {
     "name": "stdout",
     "output_type": "stream",
     "text": [
      "[[1 0 0]\n",
      " [0 1 0]\n",
      " [0 0 1]]\n",
      "[[1. 0. 0.]\n",
      " [0. 1. 0.]\n",
      " [0. 0. 1.]]\n"
     ]
    }
   ],
   "source": [
    "a=np.identity((3),dtype=int)\n",
    "b=np.identity(3)\n",
    "print(a)\n",
    "print(b)"
   ]
  },
  {
   "cell_type": "code",
   "execution_count": 19,
   "id": "02de81a6-eaa3-42a6-a55f-2ef61080eff9",
   "metadata": {},
   "outputs": [
    {
     "name": "stdout",
     "output_type": "stream",
     "text": [
      "[[1. 0. 0.]\n",
      " [0. 1. 0.]\n",
      " [0. 0. 1.]\n",
      " [1. 0. 0.]\n",
      " [0. 1. 0.]\n",
      " [0. 0. 1.]]\n"
     ]
    }
   ],
   "source": [
    "v_array=np.vstack((a,b))\n",
    "print(v_array)"
   ]
  },
  {
   "cell_type": "markdown",
   "id": "55964d09-087e-4be3-8624-2d59b234f21f",
   "metadata": {},
   "source": [
    "# Split an array of size 20 into 4 equal chunks."
   ]
  },
  {
   "cell_type": "code",
   "execution_count": 24,
   "id": "2ceaea36-cbc3-4754-b116-2600ca5c50fa",
   "metadata": {},
   "outputs": [
    {
     "name": "stdout",
     "output_type": "stream",
     "text": [
      "[array([0, 1, 2, 3, 4]), array([5, 6, 7, 8, 9]), array([10, 11, 12, 13, 14]), array([15, 16, 17, 18, 19])]\n"
     ]
    }
   ],
   "source": [
    "arr=np.arange(20)\n",
    "new=np.split(arr,4)\n",
    "print(new)"
   ]
  },
  {
   "cell_type": "markdown",
   "id": "8e55fbeb-26b6-4942-aa3c-b22bbf8c871a",
   "metadata": {},
   "source": [
    "# Show with code how modifying a .view() changes the original array but .copy()does not."
   ]
  },
  {
   "cell_type": "markdown",
   "id": "338bb652-94e0-40a8-b1d3-76bf2b353753",
   "metadata": {},
   "source": [
    "## view()"
   ]
  },
  {
   "cell_type": "code",
   "execution_count": 29,
   "id": "459e5e08-c12e-45d4-9905-4327657c1627",
   "metadata": {},
   "outputs": [
    {
     "name": "stdout",
     "output_type": "stream",
     "text": [
      "[12  3 14 15]\n",
      "[12  3 14 15]\n"
     ]
    }
   ],
   "source": [
    "a=np.array([12,13,14,15])\n",
    "b=a.view()\n",
    "b[1]=3\n",
    "print(a)\n",
    "print(b)"
   ]
  },
  {
   "cell_type": "markdown",
   "id": "f46d65d7-6587-449d-b575-5d76574fe16b",
   "metadata": {},
   "source": [
    "## copy()"
   ]
  },
  {
   "cell_type": "code",
   "execution_count": 33,
   "id": "2934e70c-8a3a-4b43-89ab-910cf402cb7a",
   "metadata": {},
   "outputs": [
    {
     "name": "stdout",
     "output_type": "stream",
     "text": [
      "[12 13 14 15]\n",
      "[12  0 14 15]\n"
     ]
    }
   ],
   "source": [
    "a=np.array([12,13,14,15])\n",
    "b=a.copy()\n",
    "b[1]=0\n",
    "print(a)\n",
    "print(b)"
   ]
  },
  {
   "cell_type": "markdown",
   "id": "3639aea5-9586-4ee0-ac3d-2507656083fa",
   "metadata": {},
   "source": [
    "# create two arrays of shape (2×3) and horizontally stack them into a (2×6) array."
   ]
  },
  {
   "cell_type": "code",
   "execution_count": 48,
   "id": "9909c6eb-fe42-4d47-96f0-9163ff3bfceb",
   "metadata": {},
   "outputs": [
    {
     "name": "stdout",
     "output_type": "stream",
     "text": [
      "[[1 2 3]\n",
      " [4 5 6]]\n",
      "[[ 1  2  3  7  8  9]\n",
      " [ 4  5  6 10 11 12]]\n",
      "(2, 6)\n"
     ]
    }
   ],
   "source": [
    "a=np.arange(1,7).reshape(2,3)\n",
    "c=np.arange(7,13).reshape(2,3)\n",
    "print(a)\n",
    "b=np.hstack((a,c))\n",
    "print(b)\n",
    "print(b.shape)"
   ]
  },
  {
   "cell_type": "code",
   "execution_count": null,
   "id": "ee75eed2-1aba-4cbb-9075-089e01edaf0d",
   "metadata": {},
   "outputs": [],
   "source": []
  }
 ],
 "metadata": {
  "kernelspec": {
   "display_name": "Python (DataScience)",
   "language": "python",
   "name": "ds_env"
  },
  "language_info": {
   "codemirror_mode": {
    "name": "ipython",
    "version": 3
   },
   "file_extension": ".py",
   "mimetype": "text/x-python",
   "name": "python",
   "nbconvert_exporter": "python",
   "pygments_lexer": "ipython3",
   "version": "3.12.11"
  }
 },
 "nbformat": 4,
 "nbformat_minor": 5
}
