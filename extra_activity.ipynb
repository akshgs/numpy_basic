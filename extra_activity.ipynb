{
 "cells": [
  {
   "cell_type": "markdown",
   "id": "d4c0ea6b-10de-419f-af5d-d13175db0621",
   "metadata": {},
   "source": [
    "# Create a 1D NumPy array with 15 evenly spaced numbers between 5 and 25."
   ]
  },
  {
   "cell_type": "code",
   "execution_count": 1,
   "id": "3929ed38-029d-41d7-b837-6b1491bce1ca",
   "metadata": {},
   "outputs": [],
   "source": [
    "import numpy as np"
   ]
  },
  {
   "cell_type": "code",
   "execution_count": 2,
   "id": "28edb637-d88e-4dae-a6b6-b5a12500f160",
   "metadata": {},
   "outputs": [
    {
     "name": "stdout",
     "output_type": "stream",
     "text": [
      "[ 5.          6.42857143  7.85714286  9.28571429 10.71428571 12.14285714\n",
      " 13.57142857 15.         16.42857143 17.85714286 19.28571429 20.71428571\n",
      " 22.14285714 23.57142857 25.        ]\n"
     ]
    }
   ],
   "source": [
    "a=np.linspace(5,25,15)\n",
    "print(a)"
   ]
  },
  {
   "cell_type": "markdown",
   "id": "54fbfd6e-9cf6-4aa7-a582-a90787b8523e",
   "metadata": {},
   "source": [
    "#  Generate a 4x4 matrix filled with random integers between 50 and 100."
   ]
  },
  {
   "cell_type": "code",
   "execution_count": 3,
   "id": "e65afbe7-8e5f-46cc-98f4-79bf6d44c330",
   "metadata": {},
   "outputs": [
    {
     "name": "stdout",
     "output_type": "stream",
     "text": [
      "[[88 88 87 76]\n",
      " [95 85 81 66]\n",
      " [53 76 59 80]\n",
      " [81 78 62 60]]\n"
     ]
    }
   ],
   "source": [
    "b=np.random.randint(50,100,(4,4))\n",
    "print(b)"
   ]
  },
  {
   "cell_type": "markdown",
   "id": "61c1dc95-9927-42a2-8847-432cc63e664d",
   "metadata": {},
   "source": [
    " # Create a NumPy array of ones with a shape of (3, 4)."
   ]
  },
  {
   "cell_type": "code",
   "execution_count": 4,
   "id": "c42ec359-6b9c-4b65-b13d-bff26d98f3a1",
   "metadata": {},
   "outputs": [
    {
     "name": "stdout",
     "output_type": "stream",
     "text": [
      "[[ 1  2  3  4]\n",
      " [ 5  6  7  8]\n",
      " [ 9 10 11 12]]\n"
     ]
    }
   ],
   "source": [
    "a=np.arange(1,13)\n",
    "b=a.reshape(3,4)\n",
    "print(b)"
   ]
  },
  {
   "cell_type": "markdown",
   "id": "50439880-8bd8-438d-addc-5f9a3b57ee99",
   "metadata": {},
   "source": [
    "# Create a 1D array of 10 random numbers and multiply each element by 2."
   ]
  },
  {
   "cell_type": "code",
   "execution_count": 5,
   "id": "731e99f2-5760-40d2-8f31-571b574364c1",
   "metadata": {},
   "outputs": [
    {
     "name": "stdout",
     "output_type": "stream",
     "text": [
      "[0 1 2 2 8 4 5 6 1 7]\n",
      "[ 0  2  4  4 16  8 10 12  2 14]\n"
     ]
    }
   ],
   "source": [
    "a=np.random.randint(10,size=10)\n",
    "print(a)\n",
    "print(a*2)\n"
   ]
  },
  {
   "cell_type": "markdown",
   "id": "61f26826-a170-40e5-a856-b51ef38a385d",
   "metadata": {},
   "source": [
    "#  Generate a 2D array of shape (6, 3) filled with random floating-point numbers between 0 and 1.\n"
   ]
  },
  {
   "cell_type": "code",
   "execution_count": 6,
   "id": "47e09fb0-1301-41cd-b6c6-d23f6cb00f67",
   "metadata": {},
   "outputs": [
    {
     "data": {
      "text/plain": [
       "array([[0.95372827, 0.01082618, 0.31470768],\n",
       "       [0.22698436, 0.11179055, 0.63066788],\n",
       "       [0.13016705, 0.50292145, 0.26498854],\n",
       "       [0.01433741, 0.50029166, 0.15200739],\n",
       "       [0.50979859, 0.6323323 , 0.81559531],\n",
       "       [0.45825327, 0.36052865, 0.62479911]])"
      ]
     },
     "execution_count": 6,
     "metadata": {},
     "output_type": "execute_result"
    }
   ],
   "source": [
    "a=np.random.random((6,3))\n",
    "a"
   ]
  },
  {
   "cell_type": "code",
   "execution_count": 7,
   "id": "ed3d7d2f-33bf-447d-a875-ab2be2fef7c2",
   "metadata": {},
   "outputs": [
    {
     "name": "stdout",
     "output_type": "stream",
     "text": [
      "[[0.55811695 0.97580842 0.17658978]\n",
      " [0.60572443 0.58410947 0.52407099]\n",
      " [0.27151567 0.16059942 0.00378234]\n",
      " [0.91066915 0.1900988  0.86236524]\n",
      " [0.39734157 0.43699212 0.7262199 ]\n",
      " [0.45531095 0.4732595  0.24836053]]\n"
     ]
    }
   ],
   "source": [
    "a = np.random.uniform(0, 1, (6, 3))\n",
    "print(a)\n"
   ]
  },
  {
   "cell_type": "markdown",
   "id": "ccdbd228-03b0-4375-b219-f275ce5c7efb",
   "metadata": {},
   "source": [
    "#  Given the array arr = np.arange(1, 21).reshape(5, 4)\n",
    "   - The first column\n",
    " \n",
    "   - The third row\n",
    "   \n",
    "   - A sub-matrix consisting of rows 2 and 3, and columns 1 to 2\n",
    "   "
   ]
  },
  {
   "cell_type": "code",
   "execution_count": 8,
   "id": "aa12c7e8-e4e9-4ec2-9b30-94d9ce8160a4",
   "metadata": {},
   "outputs": [
    {
     "name": "stdout",
     "output_type": "stream",
     "text": [
      "[[ 1  2  3  4]\n",
      " [ 5  6  7  8]\n",
      " [ 9 10 11 12]\n",
      " [13 14 15 16]\n",
      " [17 18 19 20]]\n"
     ]
    }
   ],
   "source": [
    "arr=np.arange(1,21).reshape(5,4)\n",
    "print(arr)"
   ]
  },
  {
   "cell_type": "code",
   "execution_count": 9,
   "id": "7e427b33-824c-4dc5-821f-945d8fdf38e9",
   "metadata": {},
   "outputs": [
    {
     "name": "stdout",
     "output_type": "stream",
     "text": [
      "[ 1  5  9 13 17]\n",
      "[ 9 10 11 12]\n",
      "[[ 6  7]\n",
      " [10 11]]\n"
     ]
    }
   ],
   "source": [
    "print(arr[:,0])\n",
    "print(arr[2])\n",
    "print(arr[1:3,1:3])"
   ]
  },
  {
   "cell_type": "markdown",
   "id": "580e8322-f965-4abc-a390-18a6e31210c8",
   "metadata": {},
   "source": [
    "# Create an array arr = np.arange(10, 31).reshape(7, 3)\n",
    "   - The element at position (2, 1)\n",
    "   \n",
    "   - The last 3 elements of the second column:\n",
    "    \n",
    "   - The elements in the first and third columns of the last two rows\n",
    "    "
   ]
  },
  {
   "cell_type": "code",
   "execution_count": 10,
   "id": "80aa6ab2-254b-437e-9977-9b28fe16edba",
   "metadata": {},
   "outputs": [
    {
     "name": "stdout",
     "output_type": "stream",
     "text": [
      "[[10 11 12]\n",
      " [13 14 15]\n",
      " [16 17 18]\n",
      " [19 20 21]\n",
      " [22 23 24]\n",
      " [25 26 27]\n",
      " [28 29 30]]\n",
      "17\n",
      "[16 17 18]\n",
      "[[25 27]\n",
      " [28 30]]\n"
     ]
    }
   ],
   "source": [
    "arr=np.arange(10,31).reshape(7,3)\n",
    "print(arr)\n",
    "print(arr[2][1])\n",
    "print(arr[2])\n",
    "print(arr[5:,0::2])"
   ]
  },
  {
   "cell_type": "markdown",
   "id": "015e63df-40ff-4a86-8524-1a23b5fe5745",
   "metadata": {},
   "source": [
    " # Slice a 1D array to retrieve every third element starting from index 0."
   ]
  },
  {
   "cell_type": "code",
   "execution_count": 11,
   "id": "0b771b08-8ea8-47c7-a553-0b48c9a3222d",
   "metadata": {},
   "outputs": [
    {
     "name": "stdout",
     "output_type": "stream",
     "text": [
      "[0 1 2 0 4 5 0 7 8 0]\n"
     ]
    }
   ],
   "source": [
    "ary=np.arange(10)\n",
    "ary[0::3]=0\n",
    "print(ary)"
   ]
  },
  {
   "cell_type": "markdown",
   "id": "21d19d12-b2a1-4609-926c-13c1a92b720f",
   "metadata": {},
   "source": [
    "# Create a 1D NumPy array of integers from 1 to 20 \n",
    "\n",
    "   - Calculate the square of each element\n",
    "  \n",
    "   - Subtract 5 from each element"
   ]
  },
  {
   "cell_type": "code",
   "execution_count": 12,
   "id": "62aa141b-47a9-4b93-9149-0fb7ff010abd",
   "metadata": {},
   "outputs": [
    {
     "name": "stdout",
     "output_type": "stream",
     "text": [
      "[ 1  2  3  4  5  6  7  8  9 10 11 12 13 14 15 16 17 18 19]\n",
      "[  1   4   9  16  25  36  49  64  81 100 121 144 169 196 225 256 289 324\n",
      " 361]\n",
      "[-4 -3 -2 -1  0  1  2  3  4  5  6  7  8  9 10 11 12 13 14]\n"
     ]
    }
   ],
   "source": [
    "a=np.arange(1,20)\n",
    "print(a)\n",
    "print(a**2)\n",
    "print(a-5)"
   ]
  },
  {
   "cell_type": "markdown",
   "id": "89046673-8084-425b-8dc1-9c7216fee33a",
   "metadata": {},
   "source": [
    "# Given an array arr = np.array([2, 3, 4, 5])\n",
    "\n",
    "- The exponential of each element\n",
    "     \n",
    "- The logarithm base 2 of each element"
   ]
  },
  {
   "cell_type": "code",
   "execution_count": 13,
   "id": "d2dd0ba7-ec47-4f19-82ca-7071ef52b89f",
   "metadata": {},
   "outputs": [
    {
     "name": "stdout",
     "output_type": "stream",
     "text": [
      "The exponential of each element [ 7.3890561  20.08553692 54.59815003]\n",
      "The logarithm base 2 of each element [1.        1.5849625 2.       ]\n"
     ]
    }
   ],
   "source": [
    "a=np.array([2,3,4])\n",
    "b=np.exp(a)\n",
    "c=np.log2(a)\n",
    "print('The exponential of each element',b)\n",
    "print('The logarithm base 2 of each element',c)"
   ]
  },
  {
   "cell_type": "markdown",
   "id": "114eb9d8-648e-416c-b5c4-55d734b7fcdc",
   "metadata": {},
   "source": [
    "#  Create a NumPy array of integers from 1 to 10 \n",
    "- The factorial of each element\n",
    "     \n",
    "- The sine of each element (in radians)"
   ]
  },
  {
   "cell_type": "code",
   "execution_count": 14,
   "id": "b4287604-98db-4d7c-b42f-93dcc319565b",
   "metadata": {},
   "outputs": [
    {
     "name": "stdout",
     "output_type": "stream",
     "text": [
      "[1 2 3 4 5 6 7 8 9]\n",
      "[     1      2      6     24    120    720   5040  40320 362880]\n"
     ]
    }
   ],
   "source": [
    "from scipy.special import factorial\n",
    "n=np.arange(1,10)\n",
    "print(n)\n",
    "a=factorial(n,exact=True)\n",
    "print(a)\n"
   ]
  },
  {
   "cell_type": "markdown",
   "id": "d0100214-fdfa-4aae-820c-ac5634147448",
   "metadata": {},
   "source": [
    "# Create an array arr = np.random.randint(1, 100, 50) and filter all numbers\n",
    "   that are divisible by both 3 and 5."
   ]
  },
  {
   "cell_type": "code",
   "execution_count": 15,
   "id": "42791816-ce64-4598-986c-d57152f51527",
   "metadata": {},
   "outputs": [
    {
     "name": "stdout",
     "output_type": "stream",
     "text": [
      "[54  9 18 33  5 30 29 78 94 15 44 22 27 60 96 19 51 19 33 50 60 82 34 17\n",
      " 46 25 22 63 30 83 47 11 54 63 45 26 72 65 16 78 59 69 49 53 65 45 87 87\n",
      " 19 18]\n"
     ]
    }
   ],
   "source": [
    "arr = np.random.randint(1, 100, 50)\n",
    "arr[(arr%3==0) & (arr%5==0)]\n",
    "print(arr)"
   ]
  },
  {
   "cell_type": "markdown",
   "id": "4d3484df-eba5-4072-b8a1-688af0560a09",
   "metadata": {},
   "source": [
    "# Create a 2D array of shape (4, 5) with values from 1 to 20 and reshape it into a 2D array of shape (5, 4)."
   ]
  },
  {
   "cell_type": "code",
   "execution_count": 16,
   "id": "b4dacb36-dfcf-44af-a3e3-67bfd978b709",
   "metadata": {},
   "outputs": [
    {
     "name": "stdout",
     "output_type": "stream",
     "text": [
      "[[ 1  2  3  4  5]\n",
      " [ 6  7  8  9 10]\n",
      " [11 12 13 14 15]\n",
      " [16 17 18 19 20]]\n",
      "[[ 1  6 11 16]\n",
      " [ 2  7 12 17]\n",
      " [ 3  8 13 18]\n",
      " [ 4  9 14 19]\n",
      " [ 5 10 15 20]]\n"
     ]
    }
   ],
   "source": [
    "ar=np.arange(1,21).reshape(4,5)\n",
    "print(ar)\n",
    "b=np.transpose(ar)\n",
    "print(b)"
   ]
  },
  {
   "cell_type": "markdown",
   "id": "d83e6775-b51c-4485-95f4-4b754ecadbdd",
   "metadata": {},
   "source": [
    "#  Create a 3x3 identity matrix using NumPy."
   ]
  },
  {
   "cell_type": "code",
   "execution_count": 18,
   "id": "1f18b548-9eea-49b0-a863-6b1aa8f4a871",
   "metadata": {},
   "outputs": [
    {
     "name": "stdout",
     "output_type": "stream",
     "text": [
      "[[1. 0. 0.]\n",
      " [0. 1. 0.]\n",
      " [0. 0. 1.]]\n"
     ]
    }
   ],
   "source": [
    "a=np.eye(3)\n",
    "print(a)"
   ]
  },
  {
   "cell_type": "code",
   "execution_count": null,
   "id": "bfec61ec-b31f-4689-b467-1d1b83bc35cb",
   "metadata": {},
   "outputs": [],
   "source": []
  }
 ],
 "metadata": {
  "kernelspec": {
   "display_name": "Python (DataScience)",
   "language": "python",
   "name": "ds_env"
  },
  "language_info": {
   "codemirror_mode": {
    "name": "ipython",
    "version": 3
   },
   "file_extension": ".py",
   "mimetype": "text/x-python",
   "name": "python",
   "nbconvert_exporter": "python",
   "pygments_lexer": "ipython3",
   "version": "3.12.11"
  }
 },
 "nbformat": 4,
 "nbformat_minor": 5
}
