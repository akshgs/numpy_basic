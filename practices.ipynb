{
 "cells": [
  {
   "cell_type": "markdown",
   "id": "8b69fc5c-d41b-4c7a-a090-5742cd0869b1",
   "metadata": {},
   "source": [
    "# Create a 1D NumPy array of size 10 filled with zeros."
   ]
  },
  {
   "cell_type": "code",
   "execution_count": 1,
   "id": "b46a759f-4497-4406-b13c-b70655d18390",
   "metadata": {},
   "outputs": [],
   "source": [
    "import numpy as np"
   ]
  },
  {
   "cell_type": "code",
   "execution_count": 2,
   "id": "e397fe3a-1a4e-43f3-ba77-3d33e1656276",
   "metadata": {},
   "outputs": [
    {
     "name": "stdout",
     "output_type": "stream",
     "text": [
      "[0. 0. 0. 0. 0. 0. 0. 0. 0. 0.]\n"
     ]
    }
   ],
   "source": [
    "a=np.zeros(10)\n",
    "print(a)"
   ]
  },
  {
   "cell_type": "markdown",
   "id": "836559e6-de0b-4366-a03d-cfd282c48359",
   "metadata": {},
   "source": [
    "# Create a 1D NumPy array of size 10 filled with ones."
   ]
  },
  {
   "cell_type": "code",
   "execution_count": 3,
   "id": "efc60f0e-dd37-4871-a2b4-c469f458ecc9",
   "metadata": {},
   "outputs": [
    {
     "name": "stdout",
     "output_type": "stream",
     "text": [
      "[1 1 1 1 1 1 1 1 1 1]\n"
     ]
    }
   ],
   "source": [
    "a=np.ones(10,dtype=int)\n",
    "print(a)"
   ]
  },
  {
   "cell_type": "markdown",
   "id": "2feb6477-3ff1-4cef-9a2d-fe01f6e87ec3",
   "metadata": {},
   "source": [
    "# Create a 1D array of numbers from 0 to 9."
   ]
  },
  {
   "cell_type": "code",
   "execution_count": 4,
   "id": "32da295d-ec6c-4dc2-b389-8fda88a8c3d3",
   "metadata": {},
   "outputs": [
    {
     "name": "stdout",
     "output_type": "stream",
     "text": [
      "[0 1 2 3 4 5 6 7 8 9]\n"
     ]
    }
   ],
   "source": [
    "a=np.arange(10)\n",
    "print(a)"
   ]
  },
  {
   "cell_type": "markdown",
   "id": "6a454c51-5f23-41fa-87e2-c88647a9221b",
   "metadata": {},
   "source": [
    "# Create a 1D array of numbers from 5 to 15."
   ]
  },
  {
   "cell_type": "code",
   "execution_count": 5,
   "id": "86df69ec-ab39-49ef-98c8-601aabca3d24",
   "metadata": {},
   "outputs": [
    {
     "name": "stdout",
     "output_type": "stream",
     "text": [
      "[ 5  6  7  8  9 10 11 12 13 14 15]\n"
     ]
    }
   ],
   "source": [
    "a=np.arange(5,16)\n",
    "print(a)"
   ]
  },
  {
   "cell_type": "markdown",
   "id": "2b2a224b-e3cd-4b99-9ba6-f46a42b5e89e",
   "metadata": {},
   "source": [
    "# Create an array of 10 numbers equally spaced between 0 and 1"
   ]
  },
  {
   "cell_type": "code",
   "execution_count": 6,
   "id": "0a913a39-c873-483d-bef1-1d361fd6e032",
   "metadata": {},
   "outputs": [
    {
     "name": "stdout",
     "output_type": "stream",
     "text": [
      "[0.         0.11111111 0.22222222 0.33333333 0.44444444 0.55555556\n",
      " 0.66666667 0.77777778 0.88888889 1.        ]\n"
     ]
    }
   ],
   "source": [
    "a=np.linspace(0,1,10)\n",
    "print(a)"
   ]
  },
  {
   "cell_type": "code",
   "execution_count": 7,
   "id": "d7d054e3-2d18-40c1-becc-5e899345b627",
   "metadata": {},
   "outputs": [
    {
     "name": "stdout",
     "output_type": "stream",
     "text": [
      "[[1. 0. 0.]\n",
      " [0. 1. 0.]\n",
      " [0. 0. 1.]]\n"
     ]
    }
   ],
   "source": [
    "a=np.eye(3)\n",
    "print(a)"
   ]
  },
  {
   "cell_type": "markdown",
   "id": "3b140f28-59c6-4297-9360-e75350d713f0",
   "metadata": {},
   "source": [
    "# Create a 5×5 matrix filled with the number 7."
   ]
  },
  {
   "cell_type": "code",
   "execution_count": 8,
   "id": "5215f432-17e1-4f2b-a479-1aa21ca96ea3",
   "metadata": {},
   "outputs": [
    {
     "data": {
      "text/plain": [
       "array([[7, 7, 7, 7, 7],\n",
       "       [7, 7, 7, 7, 7],\n",
       "       [7, 7, 7, 7, 7],\n",
       "       [7, 7, 7, 7, 7],\n",
       "       [7, 7, 7, 7, 7]])"
      ]
     },
     "execution_count": 8,
     "metadata": {},
     "output_type": "execute_result"
    }
   ],
   "source": [
    "a=np.full((5,5),7)\n",
    "a"
   ]
  },
  {
   "cell_type": "markdown",
   "id": "8306695f-d917-4665-b102-a10f4d273d19",
   "metadata": {},
   "source": [
    "# Create an array of 15 random integers between 1 and 50."
   ]
  },
  {
   "cell_type": "code",
   "execution_count": 9,
   "id": "12eb2901-bfce-4e3e-9dc3-abd598ffd3fd",
   "metadata": {},
   "outputs": [
    {
     "name": "stdout",
     "output_type": "stream",
     "text": [
      "[39 33 44 33 32 21 29 23 29 12  2 14  1 34 47]\n"
     ]
    }
   ],
   "source": [
    "a=np.random.randint(1,50,15)\n",
    "print(a)"
   ]
  },
  {
   "cell_type": "markdown",
   "id": "260c0c9c-4f03-484e-aaaa-83b97c986d43",
   "metadata": {},
   "source": [
    "# Create a 2×3 matrix of random floats between 0 and 1."
   ]
  },
  {
   "cell_type": "code",
   "execution_count": 11,
   "id": "062a526e-e217-49a6-8f6e-dbfaca8ef345",
   "metadata": {},
   "outputs": [
    {
     "name": "stdout",
     "output_type": "stream",
     "text": [
      "[[0.02857557 0.98500481 0.90073454]\n",
      " [0.85155322 0.71750803 0.72619927]]\n"
     ]
    }
   ],
   "source": [
    "a=np.random.rand(2,3)\n",
    "print(a)"
   ]
  },
  {
   "cell_type": "markdown",
   "id": "22a53111-cf3c-4583-9121-21c5a9930dca",
   "metadata": {},
   "source": [
    "# Create a 3D array of shape 2×3×4 filled with ones."
   ]
  },
  {
   "cell_type": "code",
   "execution_count": 12,
   "id": "ac4657b2-e053-4a55-81c5-e6407625694a",
   "metadata": {},
   "outputs": [
    {
     "name": "stdout",
     "output_type": "stream",
     "text": [
      "[[[1. 1. 1. 1.]\n",
      "  [1. 1. 1. 1.]\n",
      "  [1. 1. 1. 1.]]\n",
      "\n",
      " [[1. 1. 1. 1.]\n",
      "  [1. 1. 1. 1.]\n",
      "  [1. 1. 1. 1.]]]\n"
     ]
    }
   ],
   "source": [
    "a=np.ones((2,3,4))\n",
    "print(a)\n"
   ]
  },
  {
   "cell_type": "markdown",
   "id": "208514c6-c6e2-4a80-943e-0b282c77a3bb",
   "metadata": {},
   "source": [
    "# Find the shape of a given arra"
   ]
  },
  {
   "cell_type": "code",
   "execution_count": 13,
   "id": "7425d798-9118-4f41-8474-649c0e8209f3",
   "metadata": {},
   "outputs": [
    {
     "name": "stdout",
     "output_type": "stream",
     "text": [
      "[[[1. 1. 1. 1.]\n",
      "  [1. 1. 1. 1.]\n",
      "  [1. 1. 1. 1.]]\n",
      "\n",
      " [[1. 1. 1. 1.]\n",
      "  [1. 1. 1. 1.]\n",
      "  [1. 1. 1. 1.]]]\n",
      "(2, 3, 4)\n"
     ]
    }
   ],
   "source": [
    "a=np.ones((2,3,4))\n",
    "print(a)\n",
    "print(a.shape)"
   ]
  },
  {
   "cell_type": "markdown",
   "id": "55866175-79f9-4eaf-9ced-3b815e574aa7",
   "metadata": {},
   "source": [
    "# Find the total number of elements in an array."
   ]
  },
  {
   "cell_type": "code",
   "execution_count": 14,
   "id": "9400cdc7-5f56-46fe-9269-95b0a15733e8",
   "metadata": {},
   "outputs": [
    {
     "name": "stdout",
     "output_type": "stream",
     "text": [
      "20\n"
     ]
    }
   ],
   "source": [
    "ar=np.arange(1,21).reshape(4,5)\n",
    "print(ar.size)"
   ]
  },
  {
   "cell_type": "markdown",
   "id": "d8ebe94f-cfe9-4db9-91a2-9ec928592694",
   "metadata": {},
   "source": [
    "# Find the number of dimensions of an array."
   ]
  },
  {
   "cell_type": "code",
   "execution_count": 15,
   "id": "3e0fcb9c-7a07-4b62-b513-a0b6355fc8ea",
   "metadata": {},
   "outputs": [
    {
     "name": "stdout",
     "output_type": "stream",
     "text": [
      "2\n"
     ]
    }
   ],
   "source": [
    "ar=np.arange(1,21).reshape(4,5)\n",
    "print(ar.ndim)"
   ]
  },
  {
   "cell_type": "markdown",
   "id": "99240f61-a099-4045-815b-20e428fefa71",
   "metadata": {},
   "source": [
    "# Find the data type of an array."
   ]
  },
  {
   "cell_type": "code",
   "execution_count": 16,
   "id": "44af2123-5528-470e-aed0-f4cda73f4306",
   "metadata": {},
   "outputs": [
    {
     "name": "stdout",
     "output_type": "stream",
     "text": [
      "int32\n"
     ]
    }
   ],
   "source": [
    "ar=np.arange(1,21).reshape(4,5)\n",
    "print(ar.dtype)"
   ]
  },
  {
   "cell_type": "markdown",
   "id": "4d64ab3a-4cb6-4166-8149-e40bcfeb1b9b",
   "metadata": {},
   "source": [
    "# Find the number of dimensions of an array."
   ]
  },
  {
   "cell_type": "code",
   "execution_count": null,
   "id": "0a37254e-e06c-4fa6-80dd-f49271efdd9e",
   "metadata": {},
   "outputs": [],
   "source": [
    "a=np.array([[1,2,3],[3,4,5],[6,7,8]])\n",
    "print(a.ndim)"
   ]
  },
  {
   "cell_type": "markdown",
   "id": "ab3bc5cd-e42c-4269-a27c-0d2a95ae3acc",
   "metadata": {},
   "source": [
    "# Find the total number of elements in an array."
   ]
  },
  {
   "cell_type": "code",
   "execution_count": 17,
   "id": "3b2fb5e6-1227-44f2-bc14-a6b5c8083e1f",
   "metadata": {},
   "outputs": [
    {
     "name": "stdout",
     "output_type": "stream",
     "text": [
      "9\n"
     ]
    }
   ],
   "source": [
    "a=np.array([[1,2,3],[3,4,5],[6,7,8]])\n",
    "print(a.size)"
   ]
  },
  {
   "cell_type": "markdown",
   "id": "ce49ce89-a2a3-4b0c-af47-0421c540037b",
   "metadata": {},
   "source": [
    "# Find the data type of an array."
   ]
  },
  {
   "cell_type": "code",
   "execution_count": 18,
   "id": "85a2b24f-fe48-4467-9733-14a66d8f6639",
   "metadata": {},
   "outputs": [
    {
     "name": "stdout",
     "output_type": "stream",
     "text": [
      "int32\n"
     ]
    }
   ],
   "source": [
    "a=np.array([[1,2,3],[3,4,5],[6,7,8]])\n",
    "print(a.dtype)"
   ]
  },
  {
   "cell_type": "markdown",
   "id": "1e8446ca-1d29-4174-988e-ffbbb9975751",
   "metadata": {},
   "source": [
    "# Change the data type of an array from int to float."
   ]
  },
  {
   "cell_type": "code",
   "execution_count": 20,
   "id": "eb4f230c-f1db-4e21-95ec-9d1e6912ce77",
   "metadata": {},
   "outputs": [
    {
     "name": "stdout",
     "output_type": "stream",
     "text": [
      "[[ True  True  True]\n",
      " [ True  True  True]\n",
      " [ True  True  True]]\n"
     ]
    }
   ],
   "source": [
    "a=np.array([[1,2,3],[3,4,5],[6,7,8]])\n",
    "b=a.astype(bool)\n",
    "print(b)"
   ]
  },
  {
   "cell_type": "markdown",
   "id": "c0ad0b4f-0409-41c9-b651-4e1d0b539bca",
   "metadata": {},
   "source": [
    "# Reshape a 1D array of 12 elements into a 3×4 array."
   ]
  },
  {
   "cell_type": "code",
   "execution_count": 21,
   "id": "5dc41667-619f-42a6-92ec-70e0cf8e19a6",
   "metadata": {},
   "outputs": [
    {
     "name": "stdout",
     "output_type": "stream",
     "text": [
      "[[ 0  1  2  3]\n",
      " [ 4  5  6  7]\n",
      " [ 8  9 10 11]]\n"
     ]
    }
   ],
   "source": [
    "a=np.arange(12).reshape(3,4)\n",
    "print(a)"
   ]
  },
  {
   "cell_type": "markdown",
   "id": "6dede99f-7def-437e-8424-30157b0fc2ec",
   "metadata": {},
   "source": [
    "# Flatten a 2D array into a 1D array."
   ]
  },
  {
   "cell_type": "code",
   "execution_count": 22,
   "id": "1ad3259d-3a93-4210-ad64-d2a2ab3a5870",
   "metadata": {},
   "outputs": [
    {
     "name": "stdout",
     "output_type": "stream",
     "text": [
      "[ 0  1  2  3  4  5  6  7  8  9 10 11]\n"
     ]
    }
   ],
   "source": [
    "a=np.arange(12).reshape(3,4)\n",
    "b=a.flatten()\n",
    "print(b)"
   ]
  },
  {
   "cell_type": "markdown",
   "id": "4168c3e3-8498-48a8-8b4c-22b0d7508eee",
   "metadata": {},
   "source": [
    "# Transpose a 3×4 matrix."
   ]
  },
  {
   "cell_type": "code",
   "execution_count": 23,
   "id": "6758627b-ccb6-401e-8a0b-0ebf143fbd18",
   "metadata": {},
   "outputs": [
    {
     "name": "stdout",
     "output_type": "stream",
     "text": [
      "[[ 0  1  2  3]\n",
      " [ 4  5  6  7]\n",
      " [ 8  9 10 11]]\n",
      "[[ 0  4  8]\n",
      " [ 1  5  9]\n",
      " [ 2  6 10]\n",
      " [ 3  7 11]]\n"
     ]
    }
   ],
   "source": [
    "a=np.arange(12).reshape(3,4)\n",
    "print(a)\n",
    "b=a.transpose()\n",
    "print(b)"
   ]
  },
  {
   "cell_type": "markdown",
   "id": "7b7c2d35-74a3-46e8-8dcf-db031ef84ed0",
   "metadata": {},
   "source": [
    "# Create a 3D array and find its shape, ndim, and size."
   ]
  },
  {
   "cell_type": "code",
   "execution_count": 24,
   "id": "d48c526a-528a-4ca6-a5f6-243e631528ec",
   "metadata": {},
   "outputs": [
    {
     "name": "stdout",
     "output_type": "stream",
     "text": [
      "[[[6 3 3 2]\n",
      "  [5 5 3 4]\n",
      "  [7 8 3 9]]\n",
      "\n",
      " [[6 7 8 8]\n",
      "  [9 1 9 8]\n",
      "  [4 1 9 5]]]\n",
      "(2, 3, 4)\n",
      "3\n",
      "24\n"
     ]
    }
   ],
   "source": [
    "a=np.random.randint(1,10,(2,3,4))\n",
    "print(a)\n",
    "print(a.shape)\n",
    "print(a.ndim)\n",
    "print(a.size)"
   ]
  },
  {
   "cell_type": "markdown",
   "id": "9f735022-0b7a-4e48-8c80-4ee2e4248e4a",
   "metadata": {},
   "source": [
    "# Convert a Python list to a NumPy array."
   ]
  },
  {
   "cell_type": "code",
   "execution_count": 25,
   "id": "2c7d0adc-5c0b-4f2f-9f27-cbc135442914",
   "metadata": {},
   "outputs": [
    {
     "name": "stdout",
     "output_type": "stream",
     "text": [
      "[1 2 3 4 5 6]\n",
      "<class 'numpy.ndarray'>\n"
     ]
    }
   ],
   "source": [
    "a=[1,2,3,4,5,6]\n",
    "b=np.array(a)\n",
    "print(b)\n",
    "print(type(b))\n"
   ]
  },
  {
   "cell_type": "markdown",
   "id": "040022d1-d207-496a-a6db-9ae65f38df4e",
   "metadata": {},
   "source": [
    "# Access the first element of an array."
   ]
  },
  {
   "cell_type": "code",
   "execution_count": 35,
   "id": "43189235-3543-4d72-808f-74fc0ec37490",
   "metadata": {},
   "outputs": [
    {
     "name": "stdout",
     "output_type": "stream",
     "text": [
      "[1 2 3 4 5]\n"
     ]
    },
    {
     "data": {
      "text/plain": [
       "array([1, 2, 3])"
      ]
     },
     "execution_count": 35,
     "metadata": {},
     "output_type": "execute_result"
    }
   ],
   "source": [
    "a=np.array([1,2,3,4,5])\n",
    "print(a)\n",
    "a[0:3]\n"
   ]
  },
  {
   "cell_type": "markdown",
   "id": "71e8ec74-820f-479d-ae32-e505de0b800c",
   "metadata": {},
   "source": [
    "# Access the last element of an array."
   ]
  },
  {
   "cell_type": "code",
   "execution_count": 36,
   "id": "a96ccaff-c50d-42ca-a4b9-e041625845cd",
   "metadata": {},
   "outputs": [
    {
     "name": "stdout",
     "output_type": "stream",
     "text": [
      "[1 2 3 4 5]\n"
     ]
    },
    {
     "data": {
      "text/plain": [
       "5"
      ]
     },
     "execution_count": 36,
     "metadata": {},
     "output_type": "execute_result"
    }
   ],
   "source": [
    "a=np.array([1,2,3,4,5])\n",
    "print(a)\n",
    "a[-1]"
   ]
  },
  {
   "cell_type": "markdown",
   "id": "36e253d9-c242-479e-83fc-2486ed7b6977",
   "metadata": {},
   "source": [
    "# Access a specific row of a 2D array."
   ]
  },
  {
   "cell_type": "code",
   "execution_count": 37,
   "id": "278f5720-912b-4d5f-9d3d-02e0e00e6ff7",
   "metadata": {},
   "outputs": [
    {
     "name": "stdout",
     "output_type": "stream",
     "text": [
      "[[2 4 7 2 6]\n",
      " [8 4 3 2 7]\n",
      " [7 5 9 5 6]\n",
      " [1 6 5 2 2]\n",
      " [6 8 4 1 8]]\n"
     ]
    },
    {
     "data": {
      "text/plain": [
       "array([8, 4, 3, 2, 7])"
      ]
     },
     "execution_count": 37,
     "metadata": {},
     "output_type": "execute_result"
    }
   ],
   "source": [
    "a=np.random.randint(1,10,(5,5))\n",
    "print(a)\n",
    "a[1]"
   ]
  },
  {
   "cell_type": "markdown",
   "id": "9fdc5be9-b686-4551-8b4f-657aec34cd84",
   "metadata": {},
   "source": [
    "# Access a specific column of a 2D array."
   ]
  },
  {
   "cell_type": "code",
   "execution_count": 39,
   "id": "a10fbc02-bab9-4811-9fa0-beb11a9483a3",
   "metadata": {},
   "outputs": [
    {
     "name": "stdout",
     "output_type": "stream",
     "text": [
      "[[5 2 3 7 7]\n",
      " [4 1 3 9 9]\n",
      " [1 6 7 9 6]\n",
      " [9 9 3 9 5]\n",
      " [1 3 5 5 6]]\n"
     ]
    },
    {
     "data": {
      "text/plain": [
       "array([[2],\n",
       "       [1],\n",
       "       [6],\n",
       "       [9],\n",
       "       [3]])"
      ]
     },
     "execution_count": 39,
     "metadata": {},
     "output_type": "execute_result"
    }
   ],
   "source": [
    "a=np.random.randint(1,10,(5,5))\n",
    "print(a)\n",
    "a[:,1,np.newaxis]"
   ]
  },
  {
   "cell_type": "markdown",
   "id": "a97b65cf-f3c0-450c-9cf8-e6b39845bd44",
   "metadata": {},
   "source": [
    "# Slice the first 5 elements of an array."
   ]
  },
  {
   "cell_type": "code",
   "execution_count": 40,
   "id": "babe5ee0-c6b3-4e5b-88a2-c47185749d0d",
   "metadata": {},
   "outputs": [
    {
     "name": "stdout",
     "output_type": "stream",
     "text": [
      "[5 4 8 2 9 5 5 7 8 4]\n"
     ]
    },
    {
     "data": {
      "text/plain": [
       "array([5, 4, 8, 2, 9])"
      ]
     },
     "execution_count": 40,
     "metadata": {},
     "output_type": "execute_result"
    }
   ],
   "source": [
    "a=np.random.randint(1,10,10)\n",
    "print(a)\n",
    "a[0:5]"
   ]
  },
  {
   "cell_type": "markdown",
   "id": "1bfa4601-434a-44be-825f-bf019a4e6317",
   "metadata": {},
   "source": [
    "# Slice every second element of an array."
   ]
  },
  {
   "cell_type": "code",
   "execution_count": 41,
   "id": "cc57e9a6-830d-43d4-84ce-945db3576306",
   "metadata": {},
   "outputs": [
    {
     "name": "stdout",
     "output_type": "stream",
     "text": [
      "[1 2 9 2 2 9 5 2 7 1]\n"
     ]
    },
    {
     "data": {
      "text/plain": [
       "array([1, 9, 2, 5, 7])"
      ]
     },
     "execution_count": 41,
     "metadata": {},
     "output_type": "execute_result"
    }
   ],
   "source": [
    "a=np.random.randint(1,10,10)\n",
    "print(a)\n",
    "a[::2]"
   ]
  },
  {
   "cell_type": "markdown",
   "id": "7383efeb-4d07-43d6-93ae-d53631c6aaa1",
   "metadata": {},
   "source": [
    "# Reverse an array using slicing."
   ]
  },
  {
   "cell_type": "code",
   "execution_count": 42,
   "id": "1dc6112c-3adb-4138-9676-7b7dbdff169f",
   "metadata": {},
   "outputs": [
    {
     "name": "stdout",
     "output_type": "stream",
     "text": [
      "[1 1 8 9 6 3 4 9 9 4]\n"
     ]
    },
    {
     "data": {
      "text/plain": [
       "array([4, 9, 9, 4, 3, 6, 9, 8, 1, 1])"
      ]
     },
     "execution_count": 42,
     "metadata": {},
     "output_type": "execute_result"
    }
   ],
   "source": [
    "a=np.random.randint(1,10,10)\n",
    "print(a)\n",
    "a[::-1]"
   ]
  },
  {
   "cell_type": "markdown",
   "id": "e594c878-41ee-436c-b872-d9b52a709330",
   "metadata": {},
   "source": [
    "# Extract the first two rows and last two columns of a 4×4 array"
   ]
  },
  {
   "cell_type": "code",
   "execution_count": 44,
   "id": "4938d17c-4a28-4d37-8129-340b11a4d8ef",
   "metadata": {},
   "outputs": [
    {
     "name": "stdout",
     "output_type": "stream",
     "text": [
      "[[9 7 3 1]\n",
      " [6 9 1 1]\n",
      " [1 6 3 6]\n",
      " [1 8 1 7]]\n",
      "\n",
      "[[9 7 3 1]\n",
      " [6 9 1 1]]\n",
      "\n",
      "[[3 1]\n",
      " [1 1]\n",
      " [3 6]\n",
      " [1 7]]\n"
     ]
    }
   ],
   "source": [
    "a=np.random.randint(1,10,(4,4))\n",
    "print(a)\n",
    "c=a[:2]\n",
    "d=a[:,-2:]\n",
    "print()\n",
    "print(c)\n",
    "print()\n",
    "print(d)"
   ]
  },
  {
   "cell_type": "markdown",
   "id": "457d7838-ba48-49d8-b1ef-f0d2cf3165a3",
   "metadata": {},
   "source": [
    "# Replace a slice of an array with another array."
   ]
  },
  {
   "cell_type": "code",
   "execution_count": 48,
   "id": "60514823-d82a-4b09-b49e-35ab5058fbe3",
   "metadata": {},
   "outputs": [
    {
     "name": "stdout",
     "output_type": "stream",
     "text": [
      "[4 5 1]\n"
     ]
    }
   ],
   "source": [
    "a=np.array([1])\n",
    "ar=np.array([4,5,6])\n",
    "ar[2:]=a\n",
    "print(ar)"
   ]
  },
  {
   "cell_type": "markdown",
   "id": "9555a742-9b2c-414a-ab72-98b5a8b94773",
   "metadata": {},
   "source": [
    "# Find all elements greater than 10 in an array."
   ]
  },
  {
   "cell_type": "code",
   "execution_count": 49,
   "id": "a20f9e99-c6d2-49a0-8e9e-c8fd984f11a6",
   "metadata": {},
   "outputs": [
    {
     "name": "stdout",
     "output_type": "stream",
     "text": [
      "[ 3 14 14  7 23 29 22 14 28  5]\n",
      "[14 14 23 29 22 14 28]\n"
     ]
    }
   ],
   "source": [
    "n=np.random.randint(1,30,10)\n",
    "print(n)\n",
    "b=n[n>10]\n",
    "print(b)"
   ]
  },
  {
   "cell_type": "markdown",
   "id": "6704cf19-e7c9-4d61-ac77-4f947cb1ab95",
   "metadata": {},
   "source": [
    "# Find all even numbers in an array."
   ]
  },
  {
   "cell_type": "code",
   "execution_count": 50,
   "id": "edb45d74-c1b6-492e-802b-de33041dc919",
   "metadata": {},
   "outputs": [
    {
     "name": "stdout",
     "output_type": "stream",
     "text": [
      "[ 9 21  2  8 22 17  8  1 19 22]\n",
      "[ 2  8 22  8 22]\n"
     ]
    }
   ],
   "source": [
    "n=np.random.randint(1,30,10)\n",
    "print(n)\n",
    "even=n[n%2==0]\n",
    "print(even)"
   ]
  },
  {
   "cell_type": "markdown",
   "id": "6606f6a0-d1b1-4509-b32e-f72ccbe5bc79",
   "metadata": {},
   "source": [
    "# Filter all elements divisible by both 3 and 5."
   ]
  },
  {
   "cell_type": "code",
   "execution_count": 51,
   "id": "6103b4fb-ad86-4e97-8405-2c5087ed00ab",
   "metadata": {},
   "outputs": [
    {
     "name": "stdout",
     "output_type": "stream",
     "text": [
      "[25  7 16 15 23 25 10 18 17 10]\n",
      "[15]\n"
     ]
    }
   ],
   "source": [
    "n=np.random.randint(1,30,10)\n",
    "print(n)\n",
    "fi=n[(n%3==0)&(n%5==0)]\n",
    "print(fi)"
   ]
  },
  {
   "cell_type": "markdown",
   "id": "1607e258-79b5-41ca-9814-76618aae43b4",
   "metadata": {},
   "source": [
    "# Replace all negative numbers in an array with 0."
   ]
  },
  {
   "cell_type": "code",
   "execution_count": 52,
   "id": "d540e1b0-f0af-48fb-8187-c7c8e5c764a0",
   "metadata": {},
   "outputs": [
    {
     "name": "stdout",
     "output_type": "stream",
     "text": [
      "[3 0 5 0 2 0]\n"
     ]
    }
   ],
   "source": [
    "\n",
    "arr = np.array([3, -1, 5, -7, 2, -4])\n",
    "arr[arr < 0] = 0\n",
    "print(arr)\n"
   ]
  },
  {
   "cell_type": "markdown",
   "id": "11c20a3c-655d-4b1c-af97-bfb8b48b0534",
   "metadata": {},
   "source": [
    " # Extract elements using a list of indices."
   ]
  },
  {
   "cell_type": "code",
   "execution_count": 54,
   "id": "7f5dd940-e6e9-466d-9c59-9cf6e7a103cf",
   "metadata": {},
   "outputs": [
    {
     "name": "stdout",
     "output_type": "stream",
     "text": [
      "[10 30 50]\n"
     ]
    }
   ],
   "source": [
    "arr = np.array([10, 20, 30, 40, 50])\n",
    "indices=[0,2,4]\n",
    "sel=arr[indices]\n",
    "print(sel)"
   ]
  },
  {
   "cell_type": "markdown",
   "id": "c386166b-7728-4063-ad1e-9dcfee3da662",
   "metadata": {},
   "source": [
    "# Set all elements less than 5 to -1."
   ]
  },
  {
   "cell_type": "code",
   "execution_count": 55,
   "id": "5a8f56a9-d3f1-4cd1-9d0c-2f2320ffc48e",
   "metadata": {},
   "outputs": [
    {
     "name": "stdout",
     "output_type": "stream",
     "text": [
      "[1 2 3 4 5 6 7 8 9]\n",
      "[-1 -1 -1 -1  5  6  7  8  9]\n"
     ]
    }
   ],
   "source": [
    "a=np.arange(1,10)\n",
    "print(a)\n",
    "a[a<5]=-1\n",
    "print(a)"
   ]
  },
  {
   "cell_type": "markdown",
   "id": "c8b27987-b4a3-44f8-9504-c00b6265ff7a",
   "metadata": {},
   "source": [
    "# Extract all elements where another array is greater than 50."
   ]
  },
  {
   "cell_type": "code",
   "execution_count": 56,
   "id": "6a8d5294-3797-43d7-b408-f15cde43fad4",
   "metadata": {},
   "outputs": [
    {
     "name": "stdout",
     "output_type": "stream",
     "text": [
      "[20 40 60 70]\n"
     ]
    }
   ],
   "source": [
    "arr1 = np.array([10, 20, 30, 40, 50, 60, 70])\n",
    "arr2 = np.array([45, 55, 35, 65, 25, 75, 80])\n",
    "result=arr1[arr2>50]\n",
    "print(result)"
   ]
  },
  {
   "cell_type": "markdown",
   "id": "c69ee260-08a2-41af-86c1-dcdf62a34498",
   "metadata": {},
   "source": [
    "# Use np.where to find indices of elements > 10."
   ]
  },
  {
   "cell_type": "code",
   "execution_count": 57,
   "id": "7faceb89-6c12-41c4-af4b-fa0a2fc2894a",
   "metadata": {},
   "outputs": [
    {
     "name": "stdout",
     "output_type": "stream",
     "text": [
      "(array([1, 2, 3, 4], dtype=int64),)\n"
     ]
    }
   ],
   "source": [
    "arr1 = np.array([10, 20, 30, 40, 50, 60, 70])\n",
    "a=np.where(arr>10)\n",
    "print(a)"
   ]
  },
  {
   "cell_type": "markdown",
   "id": "d08c0969-733c-4512-a940-8dc642302e81",
   "metadata": {},
   "source": [
    "# Use boolean indexing to replace specific values."
   ]
  },
  {
   "cell_type": "code",
   "execution_count": 62,
   "id": "20aeb4c7-5af7-405e-9ca5-123cd944abdd",
   "metadata": {},
   "outputs": [
    {
     "name": "stdout",
     "output_type": "stream",
     "text": [
      "[ 1  2  3 40 50 60 70]\n"
     ]
    }
   ],
   "source": [
    "arr1 = np.array([10, 20, 30, 40, 50, 60, 70])\n",
    "arr=[0,1,2]\n",
    "a=[1,2,3]\n",
    "arr1[arr]=a\n",
    "print(arr1)"
   ]
  },
  {
   "cell_type": "markdown",
   "id": "5bd114e5-e5ec-456b-b4a1-b04a1be34aec",
   "metadata": {},
   "source": [
    "# Count how many elements satisfy a condition"
   ]
  },
  {
   "cell_type": "code",
   "execution_count": 69,
   "id": "8bbe24af-2258-4464-bd13-1eba75ce575e",
   "metadata": {},
   "outputs": [
    {
     "name": "stdout",
     "output_type": "stream",
     "text": [
      "[10 20 30 40 50 60 70]\n",
      "2\n"
     ]
    }
   ],
   "source": [
    "arr1 = np.array([10, 20, 30, 40, 50, 60, 70])\n",
    "print(arr1)\n",
    "count=np.sum(arr1>50)\n",
    "print(count)\n"
   ]
  },
  {
   "cell_type": "markdown",
   "id": "889cd396-90c0-4465-8abc-22dc64750cbe",
   "metadata": {},
   "source": [
    "# find mean row wise and cloumn wise brodcast"
   ]
  },
  {
   "cell_type": "code",
   "execution_count": 71,
   "id": "e1d909b1-ebbc-486a-bb03-3a7247756ec4",
   "metadata": {},
   "outputs": [
    {
     "name": "stdout",
     "output_type": "stream",
     "text": [
      "[[68 13 15  6 45 74 86 98 15 96]\n",
      " [71 93 14 41  7 93 34 23 77 52]\n",
      " [59  8 41 16 73 67 17 32 83 84]\n",
      " [38 91 33 98 93 32 94 59 48 38]\n",
      " [77 83 16 85 30 52 95 21 34 95]\n",
      " [34 69 62 91 19 42  2 47 81 99]\n",
      " [98 32 89 73  4 46 77 26 50 29]\n",
      " [10 26 69 59 24 63 96 21 43 38]\n",
      " [90 89 23 40 94 15 63 48 79  5]\n",
      " [71 63 26 41 20  6 57 91 49 72]]\n",
      "[[51.6]\n",
      " [50.5]\n",
      " [48. ]\n",
      " [62.4]\n",
      " [58.8]\n",
      " [54.6]\n",
      " [52.4]\n",
      " [44.9]\n",
      " [54.6]\n",
      " [49.6]]\n",
      "[61.6 56.7 38.8 55.  40.9 49.  62.1 46.6 55.9 60.8]\n"
     ]
    }
   ],
   "source": [
    "arr = np.random.randint(1, 100, (10, 10))\n",
    "print(arr)\n",
    "row_mean=arr.mean(axis=1)\n",
    "row_bro=row_mean[:,np.newaxis]\n",
    "print(row_bro)\n",
    "col_mean=arr.mean(axis=0)\n",
    "colbro=col_mean[np.newaxis,:]\n",
    "print(col_mean)"
   ]
  },
  {
   "cell_type": "markdown",
   "id": "970dc870-6063-4362-a867-5fa0faaffbaf",
   "metadata": {},
   "source": [
    "# Add two arrays element-wise."
   ]
  },
  {
   "cell_type": "code",
   "execution_count": 72,
   "id": "847c24b3-b4c1-4d7a-97f9-5d7cf9b80bda",
   "metadata": {},
   "outputs": [
    {
     "name": "stdout",
     "output_type": "stream",
     "text": [
      "[2 4 6 8]\n"
     ]
    }
   ],
   "source": [
    "a=np.array([1,2,3,4])\n",
    "b=np.array([1,2,3,4])\n",
    "c=np.add(a,b)\n",
    "print(c)"
   ]
  },
  {
   "cell_type": "markdown",
   "id": "e9be5701-9b6b-41cc-8491-2df468ec0258",
   "metadata": {},
   "source": [
    "# Subtract two arrays element-wise"
   ]
  },
  {
   "cell_type": "code",
   "execution_count": 73,
   "id": "35bc5886-a4de-404f-8082-6c462ee83b06",
   "metadata": {},
   "outputs": [
    {
     "name": "stdout",
     "output_type": "stream",
     "text": [
      "[1 2 3 4 5]\n"
     ]
    }
   ],
   "source": [
    "a=np.array([2,4,6,8,10])\n",
    "b=np.array([1,2,3,4,5])\n",
    "c=a-b\n",
    "print(c)"
   ]
  },
  {
   "cell_type": "markdown",
   "id": "3c01e41d-e017-4743-bed4-6b40a984489b",
   "metadata": {},
   "source": [
    "# Multiply two arrays element-wise."
   ]
  },
  {
   "cell_type": "code",
   "execution_count": 74,
   "id": "63517c00-19fb-47eb-9ad9-6c05f0541926",
   "metadata": {},
   "outputs": [
    {
     "name": "stdout",
     "output_type": "stream",
     "text": [
      "[ 2  8 18 32 50]\n"
     ]
    }
   ],
   "source": [
    "a=np.array([2,4,6,8,10])\n",
    "b=np.array([1,2,3,4,5])\n",
    "c=a*b\n",
    "print(c)"
   ]
  },
  {
   "cell_type": "markdown",
   "id": "09cee49d-5d9d-4067-ad53-394918542958",
   "metadata": {},
   "source": [
    "# Divide two arrays element-wise."
   ]
  },
  {
   "cell_type": "code",
   "execution_count": 75,
   "id": "110effa0-4df2-4ad0-90e4-637f9b0d279d",
   "metadata": {},
   "outputs": [
    {
     "name": "stdout",
     "output_type": "stream",
     "text": [
      "[[2 4 6]\n",
      " [1 9 3]\n",
      " [5 7 2]]\n",
      "[[0.22222222 0.44444444 0.66666667]\n",
      " [0.11111111 1.         0.33333333]\n",
      " [0.55555556 0.77777778 0.22222222]]\n"
     ]
    }
   ],
   "source": [
    "arr = np.array([[2, 4, 6],\n",
    "                [1, 9, 3],\n",
    "                [5, 7, 2]])\n",
    "print(arr)\n",
    "b=np.max(arr)\n",
    "c=arr/b\n",
    "print(c)"
   ]
  },
  {
   "cell_type": "markdown",
   "id": "226f2921-fd5f-4344-9fab-bb1544e21f1b",
   "metadata": {},
   "source": [
    "# Raise each element to the power of 2."
   ]
  },
  {
   "cell_type": "code",
   "execution_count": 76,
   "id": "a1e8fc2a-57b2-49cb-9bd0-114b575126b7",
   "metadata": {},
   "outputs": [
    {
     "name": "stdout",
     "output_type": "stream",
     "text": [
      "[[2 4 6]\n",
      " [1 9 3]\n",
      " [5 7 2]]\n",
      "[[ 4 16 36]\n",
      " [ 1 81  9]\n",
      " [25 49  4]]\n"
     ]
    }
   ],
   "source": [
    "arr = np.array([[2, 4, 6],\n",
    "                [1, 9, 3],\n",
    "                [5, 7, 2]])\n",
    "print(arr)\n",
    "arr2=arr**2\n",
    "print(arr2)"
   ]
  },
  {
   "cell_type": "markdown",
   "id": "cf2b942d-1a7a-47d9-89ca-9de4373af96d",
   "metadata": {},
   "source": [
    "# Calculate the square root of each element"
   ]
  },
  {
   "cell_type": "code",
   "execution_count": 77,
   "id": "b5b00a8a-22e5-4523-8572-0a7e88db2643",
   "metadata": {},
   "outputs": [
    {
     "name": "stdout",
     "output_type": "stream",
     "text": [
      "[[2 4 6]\n",
      " [1 9 3]\n",
      " [5 7 2]]\n",
      "[[1.41421356 2.         2.44948974]\n",
      " [1.         3.         1.73205081]\n",
      " [2.23606798 2.64575131 1.41421356]]\n"
     ]
    }
   ],
   "source": [
    "a=np.array([[2, 4, 6],\n",
    "                [1, 9, 3],\n",
    "                [5, 7, 2]])\n",
    "print(a)\n",
    "b=np.sqrt(a)\n",
    "print(b)"
   ]
  },
  {
   "cell_type": "markdown",
   "id": "a0d8d964-2ddb-47f9-ab02-db952394f98a",
   "metadata": {},
   "source": [
    "# Compute the exponential of each element."
   ]
  },
  {
   "cell_type": "code",
   "execution_count": 78,
   "id": "54523798-d90c-452b-828c-a4c28399e01c",
   "metadata": {},
   "outputs": [
    {
     "name": "stdout",
     "output_type": "stream",
     "text": [
      "[[2 4 6]\n",
      " [1 9 3]\n",
      " [5 7 2]]\n",
      "[[7.38905610e+00 5.45981500e+01 4.03428793e+02]\n",
      " [2.71828183e+00 8.10308393e+03 2.00855369e+01]\n",
      " [1.48413159e+02 1.09663316e+03 7.38905610e+00]]\n"
     ]
    }
   ],
   "source": [
    "a=np.array([[2, 4, 6],\n",
    "                [1, 9, 3],\n",
    "                [5, 7, 2]])\n",
    "print(a)\n",
    "b=np.exp(a)\n",
    "print(b)"
   ]
  },
  {
   "cell_type": "markdown",
   "id": "59b515e6-b163-4a92-95a2-f1b2807cd5fa",
   "metadata": {},
   "source": [
    "# Compute the natural logarithm of each element."
   ]
  },
  {
   "cell_type": "code",
   "execution_count": 79,
   "id": "e637b30f-3c27-4fe3-9695-2d39978832d6",
   "metadata": {},
   "outputs": [
    {
     "name": "stdout",
     "output_type": "stream",
     "text": [
      "[[2 4 6]\n",
      " [1 9 3]\n",
      " [5 7 2]]\n",
      "[[0.69314718 1.38629436 1.79175947]\n",
      " [0.         2.19722458 1.09861229]\n",
      " [1.60943791 1.94591015 0.69314718]]\n"
     ]
    }
   ],
   "source": [
    "a=np.array([[2, 4, 6],\n",
    "                [1, 9, 3],\n",
    "                [5, 7, 2]])\n",
    "print(a)\n",
    "b=np.log(a)\n",
    "print(b)"
   ]
  },
  {
   "cell_type": "markdown",
   "id": "da2fa61b-0f55-40e1-9f6d-1418a5fcebcb",
   "metadata": {},
   "source": [
    "# Compute the sum of all elements."
   ]
  },
  {
   "cell_type": "code",
   "execution_count": 80,
   "id": "31fe841a-29d9-4bde-859e-4aa1acbfffa4",
   "metadata": {},
   "outputs": [
    {
     "name": "stdout",
     "output_type": "stream",
     "text": [
      "[1 2 3 4 5]\n",
      "15\n"
     ]
    }
   ],
   "source": [
    "a=np.array([1, 2, 3, 4, 5])\n",
    "print(a)\n",
    "b=np.sum(a)\n",
    "print(b)"
   ]
  },
  {
   "cell_type": "markdown",
   "id": "eb0ec141-8d1a-4d24-b6af-d2ee5693422f",
   "metadata": {},
   "source": [
    "# Compute the sum along rows or columns."
   ]
  },
  {
   "cell_type": "code",
   "execution_count": 82,
   "id": "81e90862-f0c2-448b-b342-f86fd8cd455f",
   "metadata": {},
   "outputs": [
    {
     "name": "stdout",
     "output_type": "stream",
     "text": [
      "[[2 4 6]\n",
      " [1 9 3]\n",
      " [5 7 2]]\n",
      "row sum is [12 13 14]\n",
      "column sum is [ 8 20 11]\n"
     ]
    }
   ],
   "source": [
    "a=np.array([[2, 4, 6],\n",
    "                [1, 9, 3],\n",
    "                [5, 7, 2]])\n",
    "print(a)\n",
    "raw_sum=np.sum(a,axis=1)\n",
    "print('row sum is',raw_sum)\n",
    "col_sum=np.sum(a,axis=0)\n",
    "print('column sum is',col_sum)"
   ]
  },
  {
   "cell_type": "markdown",
   "id": "85c9d52a-0afd-4b2e-aa19-64367bb029fb",
   "metadata": {},
   "source": [
    "# Find the mean of an array."
   ]
  },
  {
   "cell_type": "code",
   "execution_count": 83,
   "id": "07df08b3-bd36-4bb4-bed9-0b79a254161c",
   "metadata": {},
   "outputs": [
    {
     "name": "stdout",
     "output_type": "stream",
     "text": [
      "[[2 4 6]\n",
      " [1 9 3]\n",
      " [5 7 2]]\n",
      "4.333333333333333\n"
     ]
    }
   ],
   "source": [
    "a=np.array([[2, 4, 6],\n",
    "                [1, 9, 3],\n",
    "                [5, 7, 2]])\n",
    "print(a)\n",
    "b=np.mean(a)\n",
    "print(b)"
   ]
  },
  {
   "cell_type": "markdown",
   "id": "a5cb8c72-3f82-4969-80f3-6dc4ac326ff6",
   "metadata": {},
   "source": [
    "# Find the median of an array."
   ]
  },
  {
   "cell_type": "code",
   "execution_count": 84,
   "id": "ed5e4dac-1286-4bed-8ad9-bdc38445c559",
   "metadata": {},
   "outputs": [
    {
     "name": "stdout",
     "output_type": "stream",
     "text": [
      "[[2 4 6]\n",
      " [1 9 3]\n",
      " [5 7 2]]\n",
      "4.333333333333333\n"
     ]
    }
   ],
   "source": [
    "a=np.array([[2, 4, 6],\n",
    "                [1, 9, 3],\n",
    "                [5, 7, 2]])\n",
    "print(a)\n",
    "b=np.median(b)\n",
    "print(b)"
   ]
  },
  {
   "cell_type": "markdown",
   "id": "cd4d9218-a20e-4f7f-92e1-eccda1d19fd0",
   "metadata": {},
   "source": [
    "# Find the standard deviation."
   ]
  },
  {
   "cell_type": "code",
   "execution_count": 85,
   "id": "5e214ce9-3af0-4ef8-8845-5ceff252a59e",
   "metadata": {},
   "outputs": [
    {
     "name": "stdout",
     "output_type": "stream",
     "text": [
      "[[2 4 6]\n",
      " [1 9 3]\n",
      " [5 7 2]]\n",
      "2.494438257849294\n"
     ]
    }
   ],
   "source": [
    "a=np.array([[2, 4, 6],\n",
    "                [1, 9, 3],\n",
    "                [5, 7, 2]])\n",
    "print(a)\n",
    "b=np.std(a)\n",
    "print(b)"
   ]
  },
  {
   "cell_type": "markdown",
   "id": "3dbf80e0-d1fe-4a13-b22a-a960c25ff011",
   "metadata": {},
   "source": [
    "# Find the variance."
   ]
  },
  {
   "cell_type": "code",
   "execution_count": 86,
   "id": "f34004f2-7838-4b15-b137-47cfcf809228",
   "metadata": {},
   "outputs": [
    {
     "name": "stdout",
     "output_type": "stream",
     "text": [
      "[[2 4 6]\n",
      " [1 9 3]\n",
      " [5 7 2]]\n",
      "6.222222222222222\n"
     ]
    }
   ],
   "source": [
    "a=np.array([[2, 4, 6],\n",
    "                [1, 9, 3],\n",
    "                [5, 7, 2]])\n",
    "print(a)\n",
    "b=np.var(a)\n",
    "print(b)"
   ]
  },
  {
   "cell_type": "markdown",
   "id": "16e33bf0-65d1-4fc0-9105-1ba928d7880a",
   "metadata": {},
   "source": [
    "# Find the minimum and maximum values."
   ]
  },
  {
   "cell_type": "code",
   "execution_count": 87,
   "id": "247d66a3-9e30-4ae9-87fd-5cb9f3eff31b",
   "metadata": {},
   "outputs": [
    {
     "name": "stdout",
     "output_type": "stream",
     "text": [
      "[[40  9  1 18 22]\n",
      " [28 18 17  2  1]\n",
      " [ 4 20  3 37 22]\n",
      " [ 3 34 48 25  1]]\n",
      "1\n",
      "48\n"
     ]
    }
   ],
   "source": [
    "ar=np.random.randint(1,50,(4,5))\n",
    "print(ar)\n",
    "m=np.min(ar)\n",
    "ma=np.max(ar)\n",
    "print(m)\n",
    "print(ma)"
   ]
  },
  {
   "cell_type": "markdown",
   "id": "10c12789-eece-4aa7-ad0d-fb1372fcc450",
   "metadata": {},
   "source": [
    "# Find the index of the minimum and maximum values."
   ]
  },
  {
   "cell_type": "code",
   "execution_count": 88,
   "id": "0cbaec1c-5b2a-4c58-85db-db2de89ef4c4",
   "metadata": {},
   "outputs": [
    {
     "name": "stdout",
     "output_type": "stream",
     "text": [
      "[[37 10 19 14 26]\n",
      " [13 11 41 39 33]\n",
      " [ 4 48  4 18 25]\n",
      " [17  8 15  8 14]]\n",
      "10\n",
      "11\n"
     ]
    }
   ],
   "source": [
    "ar=np.random.randint(1,50,(4,5))\n",
    "print(ar)\n",
    "a=np.argmin(ar)\n",
    "print(a)\n",
    "b=np.argmax(ar)\n",
    "print(b)"
   ]
  },
  {
   "cell_type": "markdown",
   "id": "9fb3887f-57d2-4367-90d5-2be0580b8e83",
   "metadata": {},
   "source": [
    "# Compute the cumulative sum."
   ]
  },
  {
   "cell_type": "code",
   "execution_count": 89,
   "id": "b1259645-ee9f-4a20-9383-e19fc55621c7",
   "metadata": {},
   "outputs": [
    {
     "name": "stdout",
     "output_type": "stream",
     "text": [
      "[[17 14 39 48 23]\n",
      " [33 21 19  7  4]\n",
      " [42  7 44  8 41]\n",
      " [46 32 33 28  5]]\n",
      "[ 17  31  70 118 141 174 195 214 221 225 267 274 318 326 367 413 445 478\n",
      " 506 511]\n"
     ]
    }
   ],
   "source": [
    "ar=np.random.randint(1,50,(4,5))\n",
    "print(ar)\n",
    "c=np.cumsum(ar)\n",
    "print(c)"
   ]
  },
  {
   "cell_type": "markdown",
   "id": "282e51bb-9b0b-49a5-a12e-8c2dd2e3337f",
   "metadata": {},
   "source": [
    "# Compute the cumulative product."
   ]
  },
  {
   "cell_type": "code",
   "execution_count": 90,
   "id": "2137e6b5-4028-438d-b17e-3b11ce21417f",
   "metadata": {},
   "outputs": [
    {
     "name": "stdout",
     "output_type": "stream",
     "text": [
      "[28 25 44 31  6 30 12 35 48  1]\n",
      "[         28         700       30800      954800     5728800   171864000\n",
      "  2062368000  -831564032 -1260367872 -1260367872]\n"
     ]
    }
   ],
   "source": [
    "ar=np.random.randint(1,50,size=10)\n",
    "print(ar)\n",
    "b=np.cumproduct(ar)\n",
    "print(b)"
   ]
  },
  {
   "cell_type": "markdown",
   "id": "3d31a084-c712-4d28-b625-bd7f61e3698f",
   "metadata": {},
   "source": [
    "# Find the percentile (e.g., 25th percentile)."
   ]
  },
  {
   "cell_type": "code",
   "execution_count": 98,
   "id": "7faf978d-cad5-44e7-8b89-87bce7be0a7b",
   "metadata": {},
   "outputs": [
    {
     "name": "stdout",
     "output_type": "stream",
     "text": [
      "[45 31  3 29  6 35 18 34 49 35]\n",
      "32.5\n",
      "20.75\n"
     ]
    }
   ],
   "source": [
    "ar=np.random.randint(1,50,size=10)\n",
    "print(ar)\n",
    "c=np.percentile(ar,25)\n",
    "print(np.median(ar))\n",
    "print(c)"
   ]
  },
  {
   "cell_type": "markdown",
   "id": "6ec32d2e-22f7-48b7-9c61-ca8ecd117988",
   "metadata": {},
   "source": [
    "# Compute correlation between two arrays."
   ]
  },
  {
   "cell_type": "code",
   "execution_count": 99,
   "id": "4196ed9f-4d13-496a-8768-f4a522b5a4ec",
   "metadata": {},
   "outputs": [
    {
     "name": "stdout",
     "output_type": "stream",
     "text": [
      "[ 4 10 22 13 32 43 48 15  1 32]\n",
      "[25 45 16 33  8 29 45 33 18 19]\n",
      "[[1.         0.08563478]\n",
      " [0.08563478 1.        ]]\n"
     ]
    }
   ],
   "source": [
    "ar=np.random.randint(1,50,size=10)\n",
    "ar1=np.random.randint(1,50,size=10)\n",
    "print(ar)\n",
    "print(ar1)\n",
    "c=np.corrcoef(ar,ar1)\n",
    "print(c)"
   ]
  },
  {
   "cell_type": "markdown",
   "id": "74f78e29-b8e5-4e03-8e0b-fa3506bab4b1",
   "metadata": {},
   "source": [
    "# Create a 2×2 matrix and compute its determinant."
   ]
  },
  {
   "cell_type": "code",
   "execution_count": 100,
   "id": "77617df1-c9e5-4532-94a9-3fd5bf5fe4d7",
   "metadata": {},
   "outputs": [
    {
     "name": "stdout",
     "output_type": "stream",
     "text": [
      "[[7 6]\n",
      " [1 7]]\n",
      "43.0\n"
     ]
    }
   ],
   "source": [
    "a=np.random.randint(1,10,(2,2))\n",
    "print(a)\n",
    "b=np.linalg.det(a)\n",
    "print(b)"
   ]
  },
  {
   "cell_type": "markdown",
   "id": "eb1856f9-09c5-4ed3-b423-466931d2aa58",
   "metadata": {},
   "source": [
    "# Compute the inverse of a 3×3 matrix."
   ]
  },
  {
   "cell_type": "code",
   "execution_count": 101,
   "id": "0987fc03-dcc5-4d1b-8766-9beec4c9c0ef",
   "metadata": {},
   "outputs": [
    {
     "name": "stdout",
     "output_type": "stream",
     "text": [
      "[[3 1 4]\n",
      " [6 8 5]\n",
      " [4 7 3]]\n",
      "[[-1.22222222  2.77777778 -3.        ]\n",
      " [ 0.22222222 -0.77777778  1.        ]\n",
      " [ 1.11111111 -1.88888889  2.        ]]\n"
     ]
    }
   ],
   "source": [
    "a=np.random.randint(1,10,(3,3))\n",
    "print(a)\n",
    "b=np.linalg.inv(a)\n",
    "print(b)"
   ]
  },
  {
   "cell_type": "markdown",
   "id": "7cb07bec-2a8a-4241-bd6d-db49a23b9970",
   "metadata": {},
   "source": [
    "# Compute the transpose of a matrix."
   ]
  },
  {
   "cell_type": "code",
   "execution_count": 102,
   "id": "a7def88c-4b6b-480a-9ad5-d1987f55ee9e",
   "metadata": {},
   "outputs": [
    {
     "name": "stdout",
     "output_type": "stream",
     "text": [
      "[[7 6 4]\n",
      " [7 6 9]]\n",
      "[[7 7]\n",
      " [6 6]\n",
      " [4 9]]\n"
     ]
    }
   ],
   "source": [
    "a=np.random.randint(1,10,(2,3))\n",
    "print(a)\n",
    "b=np.transpose(a)\n",
    "print(b)"
   ]
  },
  {
   "cell_type": "markdown",
   "id": "750a5857-74b9-49b0-872c-54089e4849da",
   "metadata": {},
   "source": [
    "# Compute matrix multiplication."
   ]
  },
  {
   "cell_type": "code",
   "execution_count": 103,
   "id": "924907bf-5b32-425c-a4f4-787a468d4f09",
   "metadata": {},
   "outputs": [
    {
     "name": "stdout",
     "output_type": "stream",
     "text": [
      "[[4 6 6]\n",
      " [5 6 5]]\n",
      "[[2 9]\n",
      " [6 3]\n",
      " [4 6]]\n",
      "[[68 90]\n",
      " [66 93]]\n"
     ]
    }
   ],
   "source": [
    "a=np.random.randint(1,10,(2,3))\n",
    "b=np.random.randint(1,10,(3,2))\n",
    "print(a)\n",
    "print(b)\n",
    "c=np.matmul(a,b)\n",
    "print(c)"
   ]
  },
  {
   "cell_type": "markdown",
   "id": "17439c37-5139-44c2-9b27-d4507648684f",
   "metadata": {},
   "source": [
    "# Compute the dot product of two vectors."
   ]
  },
  {
   "cell_type": "code",
   "execution_count": 104,
   "id": "0265cee8-9cac-4bbb-ad5c-abfa624d05e0",
   "metadata": {},
   "outputs": [
    {
     "name": "stdout",
     "output_type": "stream",
     "text": [
      "[[8 4 8]\n",
      " [1 7 3]]\n",
      "[[2 3]\n",
      " [9 7]\n",
      " [4 1]]\n"
     ]
    }
   ],
   "source": [
    "a=np.random.randint(1,10,(2,3))\n",
    "b=np.random.randint(1,10,(3,2))\n",
    "print(a)\n",
    "print(b)\n",
    "c=np.dot(a,b)"
   ]
  },
  {
   "cell_type": "markdown",
   "id": "b436cd86-4f0b-4347-884f-e9537998f9ec",
   "metadata": {},
   "source": [
    "# Solve a linear system of equations "
   ]
  },
  {
   "cell_type": "code",
   "execution_count": 105,
   "id": "d8aa5f65-d7e4-4104-a8fb-7c9236da9266",
   "metadata": {},
   "outputs": [
    {
     "name": "stdout",
     "output_type": "stream",
     "text": [
      "[2.6 2.8]\n"
     ]
    }
   ],
   "source": [
    "A = np.array([[2, 1],\n",
    "              [3, -1]])\n",
    "B=np.array([8,5])\n",
    "s=np.linalg.solve(A,B)\n",
    "print(s)"
   ]
  },
  {
   "cell_type": "markdown",
   "id": "17ea9d62-0d94-47c9-b516-7440dfe78604",
   "metadata": {},
   "source": [
    "# Find eigenvalues and eigenvectors."
   ]
  },
  {
   "cell_type": "code",
   "execution_count": 112,
   "id": "9559ceb6-212d-4470-b39e-d4cb5ab6463e",
   "metadata": {},
   "outputs": [
    {
     "name": "stdout",
     "output_type": "stream",
     "text": [
      "[[2 6 2 5]\n",
      " [5 2 9 6]\n",
      " [2 8 9 2]\n",
      " [2 4 2 5]]\n",
      "eigan value [18.523584   -5.79516073  0.24851089  5.02306584]\n",
      "eigan vector [[-0.38651079 -0.43391104  0.87049843  0.55025083]\n",
      " [-0.58201644  0.81170352  0.15688447  0.04935817]\n",
      " [-0.63804692 -0.35945855 -0.25274291 -0.64284783]\n",
      " [-0.3236702  -0.15377955 -0.3920979   0.53059822]]\n"
     ]
    }
   ],
   "source": [
    "a=np.random.randint(1,10,(4,4))\n",
    "print(a)\n",
    "c,b=np.linalg.eig(a)\n",
    "print('eigan value',c)\n",
    "print('eigan vector',b)\n"
   ]
  },
  {
   "cell_type": "markdown",
   "id": "e0df304d-748e-46bb-b41b-8d67399b2857",
   "metadata": {},
   "source": [
    "# Compute the trace of a matrix."
   ]
  },
  {
   "cell_type": "code",
   "execution_count": 115,
   "id": "f224ca51-0a61-4561-ac5b-c78e640c62d9",
   "metadata": {},
   "outputs": [
    {
     "name": "stdout",
     "output_type": "stream",
     "text": [
      "[[7 5 2 7]\n",
      " [8 1 5 9]\n",
      " [4 6 5 8]\n",
      " [1 8 7 9]]\n",
      "22\n"
     ]
    }
   ],
   "source": [
    "a=np.random.randint(1,10,(4,4))\n",
    "print(a)\n",
    "b=np.trace(a)\n",
    "print(b)"
   ]
  },
  {
   "cell_type": "markdown",
   "id": "79df2840-c8a1-442b-bd69-b85a45de668b",
   "metadata": {},
   "source": [
    "# Compute the rank of a matrix."
   ]
  },
  {
   "cell_type": "code",
   "execution_count": 116,
   "id": "42f34a98-fb6a-4ffd-ba15-028fff24e12e",
   "metadata": {},
   "outputs": [
    {
     "name": "stdout",
     "output_type": "stream",
     "text": [
      "[[2 2 7 4]\n",
      " [2 7 3 4]\n",
      " [6 5 8 9]]\n",
      "3\n"
     ]
    }
   ],
   "source": [
    "a=np.random.randint(1,10,(3,4))\n",
    "print(a)\n",
    "b=np.linalg.matrix_rank(a)\n",
    "print(b)"
   ]
  },
  {
   "cell_type": "markdown",
   "id": "a3532a04-d38a-4521-af69-18b3778d753c",
   "metadata": {},
   "source": [
    "# Compute the norm of a vector."
   ]
  },
  {
   "cell_type": "code",
   "execution_count": 118,
   "id": "af60c59c-d3f7-4209-bfa6-531c9b7893e3",
   "metadata": {},
   "outputs": [
    {
     "name": "stdout",
     "output_type": "stream",
     "text": [
      "11.832159566199232\n"
     ]
    }
   ],
   "source": [
    "a=np.array([1,2,3,4,5,6,7])\n",
    "b=np.linalg.norm(a)\n",
    "print(b)\n"
   ]
  },
  {
   "cell_type": "markdown",
   "id": "7e87a3fc-8bcb-4a3e-9715-4f642fd420c2",
   "metadata": {},
   "source": [
    "# Generate 5 random integers between 0 and 10."
   ]
  },
  {
   "cell_type": "code",
   "execution_count": 119,
   "id": "1f5923e6-3828-4428-9a04-a1e38b5ec2d2",
   "metadata": {},
   "outputs": [
    {
     "name": "stdout",
     "output_type": "stream",
     "text": [
      "[[3 8 1]\n",
      " [4 5 7]\n",
      " [1 6 6]\n",
      " [6 3 1]]\n"
     ]
    }
   ],
   "source": [
    "a=np.random.randint(1,10,(4,3))\n",
    "print(a)"
   ]
  },
  {
   "cell_type": "code",
   "execution_count": 120,
   "id": "35b4b4e0-9e7b-4b75-b844-147d0a2247d9",
   "metadata": {},
   "outputs": [
    {
     "name": "stdout",
     "output_type": "stream",
     "text": [
      "[[0.74407382 0.35231126 0.61232552]\n",
      " [0.25504998 0.72981532 0.23235993]\n",
      " [0.93847244 0.87812684 0.26788264]\n",
      " [0.73603183 0.41086834 0.36620026]]\n"
     ]
    }
   ],
   "source": [
    "a=np.random.random((4,3))\n",
    "print(a)"
   ]
  },
  {
   "cell_type": "markdown",
   "id": "5f9c899d-c2e2-4497-ad00-3fb50cc7bb1e",
   "metadata": {},
   "source": [
    "# Generate a 3×3 matrix with random numbers from normal distribution."
   ]
  },
  {
   "cell_type": "code",
   "execution_count": 122,
   "id": "dbc454e8-4169-40da-82c2-b9fa17760237",
   "metadata": {},
   "outputs": [
    {
     "name": "stdout",
     "output_type": "stream",
     "text": [
      "[[ 2.37471078 -0.45486266 -0.44359957]\n",
      " [ 1.21973879 -0.74391587 -0.26356424]\n",
      " [-0.79431402  0.65066861 -1.92404351]]\n"
     ]
    }
   ],
   "source": [
    "a=np.random.randn(3,3)\n",
    "print(a)"
   ]
  },
  {
   "cell_type": "markdown",
   "id": "e0d27add-1d7a-4d3a-9b3c-207a48fb5ff0",
   "metadata": {},
   "source": [
    "# Generate a 3×3 matrix with random numbers from uniform distribution."
   ]
  },
  {
   "cell_type": "code",
   "execution_count": 123,
   "id": "f660fcd6-633d-433f-8120-4b592425b8ac",
   "metadata": {},
   "outputs": [
    {
     "name": "stdout",
     "output_type": "stream",
     "text": [
      "[[4.55530406 7.22591692 2.90855798]\n",
      " [4.69219509 6.45817689 2.29044156]\n",
      " [9.2754025  8.46038117 5.78135877]\n",
      " [1.42049424 9.74827391 8.80964905]]\n"
     ]
    }
   ],
   "source": [
    "a=np.random.uniform(1,10,(4,3))\n",
    "print(a)"
   ]
  },
  {
   "cell_type": "markdown",
   "id": "57b8d3f2-1aef-4df2-9182-e1626c8a777e",
   "metadata": {},
   "source": [
    "# Set a random seed for reproducibility."
   ]
  },
  {
   "cell_type": "code",
   "execution_count": 127,
   "id": "31b4b609-4f5e-4e02-8db3-b409cc1233e7",
   "metadata": {},
   "outputs": [
    {
     "name": "stdout",
     "output_type": "stream",
     "text": [
      "[7 4 8 5 7]\n"
     ]
    }
   ],
   "source": [
    "np.random.seed(42)\n",
    "a=np.random.randint(1,10,5)\n",
    "print(a)"
   ]
  },
  {
   "cell_type": "markdown",
   "id": "99a668f7-665c-4e28-a2d5-10beb69838b1",
   "metadata": {},
   "source": [
    "# Shuffle a 1D array randomly"
   ]
  },
  {
   "cell_type": "code",
   "execution_count": 128,
   "id": "f75f2d76-9cc2-4298-b1d1-4f426111fd5d",
   "metadata": {},
   "outputs": [
    {
     "name": "stdout",
     "output_type": "stream",
     "text": [
      "Original array: [1 2 3 4 5 6 7 8 9]\n",
      "[1 2 6 4 5 8 9 7 3]\n"
     ]
    }
   ],
   "source": [
    "arr = np.array([1, 2, 3, 4, 5, 6, 7, 8, 9])\n",
    "print(\"Original array:\", arr)\n",
    "\n",
    "np.random.shuffle(arr)\n",
    "print(arr)"
   ]
  },
  {
   "cell_type": "markdown",
   "id": "b1df5d47-5073-40ac-a9ed-a18e50e3c6c5",
   "metadata": {},
   "source": [
    "# Randomly select 3 elements from an array."
   ]
  },
  {
   "cell_type": "code",
   "execution_count": 132,
   "id": "2921d869-c80e-4524-9f32-233d360e2c30",
   "metadata": {},
   "outputs": [
    {
     "name": "stdout",
     "output_type": "stream",
     "text": [
      "Original array: [10 20 30 40 50 60 70]\n",
      "[10 60]\n"
     ]
    }
   ],
   "source": [
    "arr = np.array([10, 20, 30, 40, 50, 60, 70])\n",
    "print(\"Original array:\", arr)\n",
    "s=np.random.choice(arr,size=2,replace=False)\n",
    "print(s)"
   ]
  },
  {
   "cell_type": "markdown",
   "id": "b4b04481-4a98-47bc-a315-8178333b4af3",
   "metadata": {},
   "source": [
    "# Generate 10 random numbers with mean 5 and std 2.Generate 10 random numbers with mean 5 and std 2."
   ]
  },
  {
   "cell_type": "code",
   "execution_count": 133,
   "id": "793c1843-1e46-4613-93ab-3d58a2b0286b",
   "metadata": {},
   "outputs": [
    {
     "name": "stdout",
     "output_type": "stream",
     "text": [
      "[5.4441578  3.464047   5.2849292  4.93069563 7.26867853 4.7905089\n",
      " 3.9497543  8.82554254 0.94656077 7.23884722]\n"
     ]
    }
   ],
   "source": [
    "mean=5\n",
    "std=2\n",
    "size=10\n",
    "a=np.random.normal(loc=mean,scale=std,size=size)\n",
    "print(a)"
   ]
  },
  {
   "cell_type": "markdown",
   "id": "7007618e-ab2d-4d4c-a9c5-2aceb9b98790",
   "metadata": {},
   "source": [
    "# Generate a 2×2 random matrix of integers divisible by 3."
   ]
  },
  {
   "cell_type": "code",
   "execution_count": 134,
   "id": "53000a4a-e3e9-4b5e-b553-044751df6bc5",
   "metadata": {},
   "outputs": [
    {
     "name": "stdout",
     "output_type": "stream",
     "text": [
      "[[15  6]\n",
      " [12 21]]\n"
     ]
    }
   ],
   "source": [
    "m=3*np.random.randint(1,10,size=(2,2))\n",
    "print(m)"
   ]
  },
  {
   "cell_type": "markdown",
   "id": "d55ce67a-f1cd-45d6-a320-98b1aacd710a",
   "metadata": {},
   "source": [
    "# Simulate rolling a dice 100 times."
   ]
  },
  {
   "cell_type": "code",
   "execution_count": 135,
   "id": "a5e110d0-2968-4581-b403-c161b29b67c0",
   "metadata": {},
   "outputs": [
    {
     "name": "stdout",
     "output_type": "stream",
     "text": [
      "[4 5 3 6 1 4 2 4 2 6 6 6 2 4 6 5 2 2 4 2 2 6 4 6 6 4 1 6 5 5 2 5 2 1 4 4 4\n",
      " 5 1 5 5 1 1 1 1 4 3 3 1 3 3 1 3 5 2 2 1 4 1 4 2 1 6 5 3 4 6 3 3 1 3 5 6 3\n",
      " 1 5 2 6 3 1 2 2 4 5 3 1 4 5 4 6 5 5 3 5 4 5 3 3 6 4]\n"
     ]
    }
   ],
   "source": [
    "n=100\n",
    "d=np.random.randint(1,7,size=n)\n",
    "print(d)"
   ]
  },
  {
   "cell_type": "markdown",
   "id": "32db8a79-cd21-4ed9-9636-94b5bc857573",
   "metadata": {},
   "source": [
    "# Add a vector to each row of a matrix."
   ]
  },
  {
   "cell_type": "code",
   "execution_count": 140,
   "id": "7979987d-8555-417d-ba0e-c45324fc7024",
   "metadata": {},
   "outputs": [
    {
     "name": "stdout",
     "output_type": "stream",
     "text": [
      "[[ 2  2  2  6]\n",
      " [ 6  6  6 10]\n",
      " [10 10 10 14]]\n"
     ]
    }
   ],
   "source": [
    "Arr3 = np.array([[1, 2, 3, 4],\n",
    "              [5, 6, 7, 8],\n",
    "              [9,10,11,12]])\n",
    "b=np.array([1,0,-1,2])\n",
    "c=Arr3+b\n",
    "print(c)"
   ]
  },
  {
   "cell_type": "markdown",
   "id": "5e3d2dbb-b68a-40f7-8605-a33807135a40",
   "metadata": {},
   "source": [
    "# Multiply a vector with each column of a matrix"
   ]
  },
  {
   "cell_type": "code",
   "execution_count": 142,
   "id": "844a690d-cd84-47a0-8625-9bde301b1d59",
   "metadata": {},
   "outputs": [
    {
     "name": "stdout",
     "output_type": "stream",
     "text": [
      "[[ 1  2  3  4]\n",
      " [ 5  6  7  8]\n",
      " [ 9 10 11 12]]\n",
      "[1 2 3]\n",
      "[[ 1  2  3  4]\n",
      " [10 12 14 16]\n",
      " [27 30 33 36]]\n"
     ]
    }
   ],
   "source": [
    "A = np.array([[1, 2, 3, 4],\n",
    "              [5, 6, 7, 8],\n",
    "              [9,10,11,12]])\n",
    "b=np.array([1,2,3])\n",
    "c=A*b.reshape(-1,1)\n",
    "print(A)\n",
    "print(b)\n",
    "print(c)"
   ]
  },
  {
   "cell_type": "markdown",
   "id": "2ffc009c-dfc6-4af2-9a72-0f942e4f8d64",
   "metadata": {},
   "source": [
    "# Subtract the mean of each row from the row."
   ]
  },
  {
   "cell_type": "code",
   "execution_count": 143,
   "id": "0e1f6a1d-38b3-43e7-be6b-65d87bd43a4d",
   "metadata": {},
   "outputs": [
    {
     "name": "stdout",
     "output_type": "stream",
     "text": [
      "[[ 1  2  3  4]\n",
      " [ 5  6  7  8]\n",
      " [ 9 10 11 12]]\n",
      "[[ 2.5]\n",
      " [ 6.5]\n",
      " [10.5]]\n",
      "[[-1.5 -0.5  0.5  1.5]\n",
      " [-1.5 -0.5  0.5  1.5]\n",
      " [-1.5 -0.5  0.5  1.5]]\n"
     ]
    }
   ],
   "source": [
    "a = np.array([[1, 2, 3, 4],\n",
    "              [5, 6, 7, 8],\n",
    "              [9,10,11,12]])\n",
    "print(a)\n",
    "row_mean=a.mean(axis=1).reshape(-1,1)\n",
    "c=a-row_mean\n",
    "print(row_mean)\n",
    "print(c)"
   ]
  },
  {
   "cell_type": "markdown",
   "id": "d916ed11-e337-4ec0-aaa8-0f06c00ee026",
   "metadata": {},
   "source": [
    "# Divide each row by its maximum value."
   ]
  },
  {
   "cell_type": "code",
   "execution_count": 144,
   "id": "a12ac47e-538d-438f-988c-cbc69ccaa137",
   "metadata": {},
   "outputs": [
    {
     "name": "stdout",
     "output_type": "stream",
     "text": [
      "[[ 1  2  3  4]\n",
      " [ 5  6  7  8]\n",
      " [ 9 10 11 12]]\n",
      "[[ 4]\n",
      " [ 8]\n",
      " [12]]\n",
      "[[0.25       0.5        0.75       1.        ]\n",
      " [0.625      0.75       0.875      1.        ]\n",
      " [0.75       0.83333333 0.91666667 1.        ]]\n"
     ]
    }
   ],
   "source": [
    "a = np.array([[1, 2, 3, 4],\n",
    "              [5, 6, 7, 8],\n",
    "              [9,10,11,12]])\n",
    "print(a)\n",
    "b=a.max(axis=1).reshape(-1,1)\n",
    "c=a/b\n",
    "print(b)\n",
    "print(c)"
   ]
  },
  {
   "cell_type": "markdown",
   "id": "73708c30-0c79-4d24-a6c8-52628c57d045",
   "metadata": {},
   "source": [
    "# Compute element-wise exponential of a matrix minus its row mean"
   ]
  },
  {
   "cell_type": "code",
   "execution_count": 145,
   "id": "fc5458bb-ed65-43f0-b93a-3528fd18d31e",
   "metadata": {},
   "outputs": [
    {
     "name": "stdout",
     "output_type": "stream",
     "text": [
      "[[ 1  2  3  4]\n",
      " [ 5  6  7  8]\n",
      " [ 9 10 11 12]]\n",
      "[[ 2.5]\n",
      " [ 6.5]\n",
      " [10.5]]\n",
      "[[ 0.75        1.5         2.25        3.        ]\n",
      " [ 4.375       5.25        6.125       7.        ]\n",
      " [ 8.25        9.16666667 10.08333333 11.        ]]\n",
      "[[2.11700002e+00 4.48168907e+00 9.48773584e+00 2.00855369e+01]\n",
      " [7.94398396e+01 1.90566268e+02 4.57144713e+02 1.09663316e+03]\n",
      " [3.82762582e+03 9.57266257e+03 2.39406549e+04 5.98741417e+04]]\n"
     ]
    }
   ],
   "source": [
    "a = np.array([[1, 2, 3, 4],\n",
    "              [5, 6, 7, 8],\n",
    "              [9,10,11,12]])\n",
    "print(a)\n",
    "b=a.mean(axis=1).reshape(-1,1)\n",
    "c=a-c\n",
    "d=np.exp(c)\n",
    "print(b)\n",
    "print(c)\n",
    "print(d)"
   ]
  },
  {
   "cell_type": "markdown",
   "id": "a8047fb8-0d4f-4718-8759-ee427e57aa91",
   "metadata": {},
   "source": [
    "# Compare performance of a for-loop vs vectorized operation"
   ]
  },
  {
   "cell_type": "code",
   "execution_count": 146,
   "id": "1c51da69-6192-4075-80dd-82cce42b5126",
   "metadata": {},
   "outputs": [
    {
     "name": "stdout",
     "output_type": "stream",
     "text": [
      "For-loop time: 0.45852136611938477 seconds\n",
      "Vectorized time: 0.0 seconds\n",
      "Results are equal: True\n"
     ]
    }
   ],
   "source": [
    "import numpy as np\n",
    "import time\n",
    "\n",
    "# Large array\n",
    "arr = np.random.rand(1000000)\n",
    "\n",
    "# -----------------------------\n",
    "# 1️⃣ Using a for-loop\n",
    "# -----------------------------\n",
    "start_time = time.time()\n",
    "\n",
    "squares_loop = np.zeros_like(arr)\n",
    "for i in range(len(arr)):\n",
    "    squares_loop[i] = arr[i] ** 2\n",
    "\n",
    "end_time = time.time()\n",
    "print(\"For-loop time:\", end_time - start_time, \"seconds\")\n",
    "\n",
    "# -----------------------------\n",
    "# 2️⃣ Using vectorized operation\n",
    "# -----------------------------\n",
    "start_time = time.time()\n",
    "\n",
    "squares_vectorized = arr ** 2\n",
    "\n",
    "end_time = time.time()\n",
    "print(\"Vectorized time:\", end_time - start_time, \"seconds\")\n",
    "\n",
    "# -----------------------------\n",
    "# Verify results are same\n",
    "# -----------------------------\n",
    "print(\"Results are equal:\", np.allclose(squares_loop, squares_vectorized))\n"
   ]
  },
  {
   "cell_type": "code",
   "execution_count": null,
   "id": "dadb0d53-4ac4-4a85-a358-0d66c22df0ed",
   "metadata": {},
   "outputs": [],
   "source": []
  },
  {
   "cell_type": "markdown",
   "id": "f9be99f9-1711-4b34-b871-ede2a9af6472",
   "metadata": {},
   "source": [
    "# Implement a vectorized linear regression prediction."
   ]
  },
  {
   "cell_type": "code",
   "execution_count": 147,
   "id": "1e9dc778-63fb-4593-bad7-ce7c7687a299",
   "metadata": {},
   "outputs": [
    {
     "name": "stdout",
     "output_type": "stream",
     "text": [
      "[2.  4.4 6.8 0.9 1.1]\n"
     ]
    }
   ],
   "source": [
    "x = np.array([[1, 2, 3],\n",
    "              [4, 5, 6],\n",
    "              [7, 8, 9],\n",
    "              [1, 0, 2],\n",
    "              [0, 1, 1]])\n",
    "w = np.array([0.2, 0.5, 0.1])\n",
    "b=0.5\n",
    "y=x.dot(w)+b\n",
    "print(y)"
   ]
  },
  {
   "cell_type": "markdown",
   "id": "a64c66cb-7a93-4051-8a37-8f2515dd2021",
   "metadata": {},
   "source": [
    "# Compute the pairwise distance matrix between points."
   ]
  },
  {
   "cell_type": "code",
   "execution_count": 148,
   "id": "d773fe20-bec7-4ce3-bceb-c764fe2f804d",
   "metadata": {},
   "outputs": [
    {
     "name": "stdout",
     "output_type": "stream",
     "text": [
      "[[0.         1.41421356 2.82842712 4.24264069]\n",
      " [1.41421356 0.         1.41421356 2.82842712]\n",
      " [2.82842712 1.41421356 0.         1.41421356]\n",
      " [4.24264069 2.82842712 1.41421356 0.        ]]\n"
     ]
    }
   ],
   "source": [
    "points = np.array([[0, 0],\n",
    "                   [1, 1],\n",
    "                   [2, 2],\n",
    "                   [3, 3]])\n",
    "di=points[:,np.newaxis,:]-points[np.newaxis,:,:]\n",
    "c=np.sqrt(np.sum(di**2,axis=2))\n",
    "print(c)"
   ]
  },
  {
   "cell_type": "markdown",
   "id": "ce056ad0-7415-4a4b-a918-a644ecd1d3ab",
   "metadata": {},
   "source": [
    "# Apply a function to each row without using loops."
   ]
  },
  {
   "cell_type": "code",
   "execution_count": 151,
   "id": "c01e787d-995f-4749-80c1-b45bee41c036",
   "metadata": {},
   "outputs": [
    {
     "name": "stdout",
     "output_type": "stream",
     "text": [
      "Vectorized sum of squares: 55\n"
     ]
    }
   ],
   "source": [
    "A=np.array([1,2,3,4,5])\n",
    "result_vec = np.sum(A**2)\n",
    "print(\"Vectorized sum of squares:\", result_vec)\n"
   ]
  },
  {
   "cell_type": "markdown",
   "id": "eb246293-e9cf-4321-a9e1-2693df04c400",
   "metadata": {},
   "source": [
    "# Normalize a 2D array (min-max scaling) using broadcasting."
   ]
  },
  {
   "cell_type": "code",
   "execution_count": 152,
   "id": "837dcb9e-e86e-4cf9-a687-4f2ba4163033",
   "metadata": {},
   "outputs": [
    {
     "name": "stdout",
     "output_type": "stream",
     "text": [
      "[[1 2 3]\n",
      " [4 5 6]\n",
      " [7 8 9]]\n",
      "[[-1.         -0.88888889 -0.77777778]\n",
      " [-0.66666667 -0.55555556 -0.44444444]\n",
      " [-0.33333333 -0.22222222 -0.11111111]]\n"
     ]
    }
   ],
   "source": [
    "a=np.array([[1, 2, 3],\n",
    "              [4, 5, 6],\n",
    "              [7, 8, 9]])\n",
    "print(a)\n",
    "b=a.min()\n",
    "c=a.max()\n",
    "d=(a-b)/c-b\n",
    "print(d)"
   ]
  },
  {
   "cell_type": "markdown",
   "id": "da9a0dcf-a728-4f0e-88a9-a6b52a182a85",
   "metadata": {},
   "source": [
    "# concatenate two array horizontly"
   ]
  },
  {
   "cell_type": "code",
   "execution_count": 153,
   "id": "3f655621-57d7-4ee2-add2-2f6cadf9b993",
   "metadata": {},
   "outputs": [
    {
     "name": "stdout",
     "output_type": "stream",
     "text": [
      "[1 2 3 4 5 6 7 8 9]\n",
      "[1 2 3 4 5 6 7 8 9]\n",
      "[[1 2 3 4 5 6 7 8 9]\n",
      " [1 2 3 4 5 6 7 8 9]]\n"
     ]
    }
   ],
   "source": [
    "a=np.arange(1,10)\n",
    "b=np.arange(1,10)\n",
    "print(a)\n",
    "print(b)\n",
    "c=np.stack((a,b))\n",
    "print(c)"
   ]
  },
  {
   "cell_type": "markdown",
   "id": "0484c5cc-f517-4dee-a7f5-5a974bda6261",
   "metadata": {},
   "source": [
    "# Split an array into 3 equal parts."
   ]
  },
  {
   "cell_type": "code",
   "execution_count": 154,
   "id": "164c8d7a-7e1f-42d5-858b-4222f5304428",
   "metadata": {},
   "outputs": [
    {
     "name": "stdout",
     "output_type": "stream",
     "text": [
      "[array([1, 2, 3]), array([4, 5, 6]), array([7, 8, 9])]\n"
     ]
    }
   ],
   "source": [
    "a=np.arange(1,10)\n",
    "b=np.split(a,3)\n",
    "print(b)"
   ]
  },
  {
   "cell_type": "markdown",
   "id": "46bd3617-793c-4d29-ac5b-341b5a0e500d",
   "metadata": {},
   "source": [
    "# Stack two arrays along a new axis."
   ]
  },
  {
   "cell_type": "code",
   "execution_count": 156,
   "id": "cd500029-79d0-4d33-940d-b598e3b6c4d1",
   "metadata": {},
   "outputs": [
    {
     "name": "stdout",
     "output_type": "stream",
     "text": [
      "[[1 1]\n",
      " [2 2]\n",
      " [3 3]\n",
      " [4 4]\n",
      " [5 5]\n",
      " [6 6]\n",
      " [7 7]\n",
      " [8 8]\n",
      " [9 9]]\n"
     ]
    }
   ],
   "source": [
    "a=np.arange(1,10)\n",
    "b=np.arange(1,10)\n",
    "c=np.stack((a,b),axis=1)\n",
    "print(c)"
   ]
  },
  {
   "cell_type": "code",
   "execution_count": 157,
   "id": "aaf965e6-1295-4fb5-ab30-52801e4a6fe4",
   "metadata": {},
   "outputs": [
    {
     "name": "stdout",
     "output_type": "stream",
     "text": [
      "[1 1 1 2 2 2 3 3 3]\n"
     ]
    }
   ],
   "source": [
    "arr = np.array([1, 2, 3])\n",
    "repeated = np.repeat(arr, 3)\n",
    "print(repeated)"
   ]
  },
  {
   "cell_type": "markdown",
   "id": "36284e2a-b4f6-4d2d-b0d0-ade82dd07317",
   "metadata": {},
   "source": [
    "# Tile an array 2×2 times."
   ]
  },
  {
   "cell_type": "code",
   "execution_count": 158,
   "id": "006e7602-c5a7-4090-bb11-dc59785649c7",
   "metadata": {},
   "outputs": [
    {
     "name": "stdout",
     "output_type": "stream",
     "text": [
      "[[1 2 1 2]\n",
      " [1 2 1 2]]\n"
     ]
    }
   ],
   "source": [
    "a=np.array([1,2])\n",
    "c=np.tile(a,(2,2))\n",
    "print(c)"
   ]
  },
  {
   "cell_type": "code",
   "execution_count": 159,
   "id": "d4152cfc-58f4-48f7-81ee-27c534b30458",
   "metadata": {},
   "outputs": [
    {
     "name": "stdout",
     "output_type": "stream",
     "text": [
      "[[1 2 3]\n",
      " [4 5 6]\n",
      " [7 8 9]]\n",
      "After deleting row 1:\n",
      " [[1 2 3]\n",
      " [7 8 9]]\n",
      "After deleting column 2:\n",
      " [[1 2]\n",
      " [4 5]\n",
      " [7 8]]\n"
     ]
    }
   ],
   "source": [
    "arr = np.array([[1, 2, 3],\n",
    "                [4, 5, 6],\n",
    "                [7, 8, 9]])\n",
    "print(arr)\n",
    "arr_row_deleted = np.delete(arr, 1, axis=0)\n",
    "print(\"After deleting row 1:\\n\", arr_row_deleted)\n",
    "arr_col_deleted = np.delete(arr, 2, axis=1)\n",
    "print(\"After deleting column 2:\\n\", arr_col_deleted)"
   ]
  },
  {
   "cell_type": "code",
   "execution_count": 168,
   "id": "8fb223c5-b5ee-4810-aa16-d293c237d38b",
   "metadata": {},
   "outputs": [
    {
     "name": "stdout",
     "output_type": "stream",
     "text": [
      "[[1 2 3]\n",
      " [4 5 6]\n",
      " [7 8 9]]\n",
      "[[ 1  2  3]\n",
      " [17  3  4]\n",
      " [ 4  5  6]\n",
      " [ 7  8  9]]\n"
     ]
    }
   ],
   "source": [
    "arr = np.array([[1, 2, 3],\n",
    "                [4, 5, 6],\n",
    "                [7, 8, 9]])\n",
    "print(arr)\n",
    "\n",
    "b=np.insert(arr,1,[17,3,4],axis=0)\n",
    "print(b)"
   ]
  },
  {
   "cell_type": "code",
   "execution_count": 172,
   "id": "964eab40-4d9b-4304-a7c9-c18f764d4171",
   "metadata": {},
   "outputs": [
    {
     "name": "stdout",
     "output_type": "stream",
     "text": [
      "[[1 2 3]\n",
      " [4 5 6]\n",
      " [7 8 9]]\n",
      "[[ 1  2  3]\n",
      " [ 4 11 12]\n",
      " [ 7 14 15]]\n",
      "comomen element [1 2 3 4 7]\n"
     ]
    }
   ],
   "source": [
    "arr = np.array([[1, 2, 3],\n",
    "                [4, 5, 6],\n",
    "                [7, 8, 9]])\n",
    "print(arr)\n",
    "arr1 = np.array([[1, 2, 3],\n",
    "                [4, 11, 12],\n",
    "                [7, 14, 15]])\n",
    "print(arr1)\n",
    "c=np.intersect1d(arr,arr1)\n",
    "print('comomen element',c)"
   ]
  },
  {
   "cell_type": "code",
   "execution_count": 176,
   "id": "9123af89-0caa-4bb9-82e2-ebcbbe4dc0a1",
   "metadata": {},
   "outputs": [
    {
     "name": "stdout",
     "output_type": "stream",
     "text": [
      "[[1 2 3]\n",
      " [4 5 6]\n",
      " [7 8 9]]\n",
      "[[ 1  2  3]\n",
      " [ 4 11 12]\n",
      " [ 7 14 15]]\n",
      "False\n"
     ]
    }
   ],
   "source": [
    "arr = np.array([[1, 2, 3],\n",
    "                [4, 5, 6],\n",
    "                [7, 8, 9]])\n",
    "print(arr)\n",
    "arr1 = np.array([[1, 2, 3],\n",
    "                [4, 11, 12],\n",
    "                [7, 14, 15]])\n",
    "print(arr1)\n",
    "c=np.all(np.isin(arr,arr1))\n",
    "print(c)"
   ]
  },
  {
   "cell_type": "code",
   "execution_count": 194,
   "id": "c1b8df54-832c-4ce5-a2c4-91d03d0562a6",
   "metadata": {},
   "outputs": [
    {
     "name": "stdout",
     "output_type": "stream",
     "text": [
      "[ 1. nan  5. nan  5.  7.  6.]\n",
      "[1. 3. 5. 3. 5. 7. 6.]\n"
     ]
    }
   ],
   "source": [
    "a=np.array([1,np.nan,5,np.nan,5,7,6])\n",
    "print(a)\n",
    "replace=np.nan_to_num(a,nan=3)\n",
    "print(replace)\n"
   ]
  },
  {
   "cell_type": "code",
   "execution_count": 195,
   "id": "d1003375-82df-4214-9719-c233ea9175f4",
   "metadata": {},
   "outputs": [
    {
     "name": "stdout",
     "output_type": "stream",
     "text": [
      "[ 1. nan  5. nan  5.  7.  6.]\n",
      "[1. 1. 5. 1. 5. 7. 6.]\n"
     ]
    }
   ],
   "source": [
    "a=np.array([1,np.nan,5,np.nan,5,7,6])\n",
    "print(a)\n",
    "a[np.isnan(a)]=1\n",
    "print(a)"
   ]
  },
  {
   "cell_type": "code",
   "execution_count": 200,
   "id": "e33ec088-2aff-4bd9-b6f3-f72e32b0fcdd",
   "metadata": {},
   "outputs": [
    {
     "name": "stdout",
     "output_type": "stream",
     "text": [
      "[[5 8 5 4 5]\n",
      " [6 1 6 9 8]\n",
      " [7 6 7 6 3]\n",
      " [6 7 2 3 3]\n",
      " [6 1 7 2 9]]\n",
      "[5 9 7 7 6]\n"
     ]
    }
   ],
   "source": [
    "a=np.random.randint(1,10,(5,5))\n",
    "\n",
    "print(a)\n",
    "c=np.diag(np.fliplr(a))\n",
    "print(c)"
   ]
  },
  {
   "cell_type": "code",
   "execution_count": 201,
   "id": "a33133a9-4e02-4809-a626-d84efe963544",
   "metadata": {},
   "outputs": [
    {
     "data": {
      "text/plain": [
       "array([1, 2, 4, 5])"
      ]
     },
     "execution_count": 201,
     "metadata": {},
     "output_type": "execute_result"
    }
   ],
   "source": [
    "a=np.array([[1,2,2,2],\n",
    "         [4,5,5,2]])\n",
    "np.unique(a)"
   ]
  },
  {
   "cell_type": "code",
   "execution_count": 203,
   "id": "48cdfda3-1f64-4de6-939a-02145c9f424f",
   "metadata": {},
   "outputs": [
    {
     "name": "stdout",
     "output_type": "stream",
     "text": [
      "[1 2]\n"
     ]
    }
   ],
   "source": [
    "a=np.array([1,2,2,3])\n",
    "b=np.array([1,2,4,5])\n",
    "c=np.intersect1d(a,b)\n",
    "print(c)"
   ]
  },
  {
   "cell_type": "code",
   "execution_count": null,
   "id": "3e37caf1-847e-41d2-b598-f12eb8be191b",
   "metadata": {},
   "outputs": [],
   "source": []
  }
 ],
 "metadata": {
  "kernelspec": {
   "display_name": "Python 3 (ipykernel)",
   "language": "python",
   "name": "python3"
  },
  "language_info": {
   "codemirror_mode": {
    "name": "ipython",
    "version": 3
   },
   "file_extension": ".py",
   "mimetype": "text/x-python",
   "name": "python",
   "nbconvert_exporter": "python",
   "pygments_lexer": "ipython3",
   "version": "3.12.7"
  }
 },
 "nbformat": 4,
 "nbformat_minor": 5
}
